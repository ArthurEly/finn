{
 "cells": [
  {
   "cell_type": "code",
   "execution_count": 1,
   "id": "312c1eea-bf60-4ef5-9c9b-bc4ce26ca933",
   "metadata": {},
   "outputs": [],
   "source": [
    "from cnns_classes import t1_quantizedCNN, t2_quantizedCNN\n",
    "from utils import utils\n",
    "\n",
    "target_fps_list = [500,5000,50000]\n",
    "\n",
    "topologies = [\n",
    "    {\n",
    "        'id':1, \n",
    "        'tp_class':t1_quantizedCNN,\n",
    "        'quant': [2,4,8]\n",
    "    },\n",
    "    {\n",
    "        'id':2, \n",
    "        'tp_class':t2_quantizedCNN,\n",
    "        'quant': [2,4,8]\n",
    "    }]"
   ]
  },
  {
   "cell_type": "code",
   "execution_count": 2,
   "id": "549e0e91-41bb-470a-8793-768c3ee04240",
   "metadata": {},
   "outputs": [
    {
     "name": "stdout",
     "output_type": "stream",
     "text": [
      "['Hardware config', 'Total essential bits', 'Total configuration bits']\n"
     ]
    }
   ],
   "source": [
    "headers = ['Hardware config','Total essential bits', 'Total configuration bits']\n",
    "print(headers)"
   ]
  },
  {
   "cell_type": "code",
   "execution_count": 3,
   "id": "3179a31d-4b41-4e41-9f50-9850d84b9121",
   "metadata": {},
   "outputs": [
    {
     "name": "stdout",
     "output_type": "stream",
     "text": [
      "Hardware config Total essential bits Total configuration bits\n",
      "  t1w2_500fps_n              2488280                 25697632\n",
      " t1w2_5000fps_n              2577795                 25697632\n",
      "t1w2_50000fps_n              3106904                 25697632\n",
      "  t1w4_500fps_n              3174255                 25697632\n",
      " t1w4_5000fps_n              3273595                 25697632\n",
      "t1w4_50000fps_n              3995468                 25697632\n",
      "  t1w8_500fps_n              5159268                 25697632\n",
      " t1w8_5000fps_n              5415345                 25697632\n",
      "t1w8_50000fps_n              9296440                 25697632\n",
      "  t2w2_500fps_n              2490441                 25697632\n",
      " t2w2_5000fps_n              2526292                 25697632\n",
      "t2w2_50000fps_n              3090838                 25697632\n",
      "  t2w4_500fps_n              2669564                 25697632\n",
      " t2w4_5000fps_n              2748399                 25697632\n",
      "t2w4_50000fps_n              3608719                 25697632\n",
      "  t2w8_500fps_n              4776832                 25697632\n",
      " t2w8_5000fps_n              5011844                 25697632\n",
      "t2w8_50000fps_n              7722427                 25697632\n",
      "succesfully saved at ./results/essential_bits_results.csv\n"
     ]
    }
   ],
   "source": [
    "import numpy as np\n",
    "import pandas as pd\n",
    "import json\n",
    "import os  \n",
    "\n",
    "essential_bits = [headers]\n",
    "\n",
    "for tp in topologies:\n",
    "    for quant in tp['quant']:\n",
    "        for target_fps in target_fps_list:\n",
    "            hardware_config = f\"t{tp['id']}w{quant}_{target_fps}fps_n\"\n",
    "            # diff_data = []\n",
    "            filename = f\"/home/artti/Desktop/finn/notebooks/sat6_cnn/builds/build_{hardware_config}/zynq_proj/finn_zynq_link.runs/impl_1/top_wrapper.vdi\"\n",
    "            with open(filename) as my_file:\n",
    "                content = my_file.readlines() \n",
    "                data = [hardware_config]\n",
    "                for line in content:                \n",
    "                    if (\"This design has\" in line and \"essential bits out of\" in line):\n",
    "                        line_content = line.split()            \n",
    "                        for word in line_content:\n",
    "                            if (word.isnumeric()):\n",
    "                                data.append(word)\n",
    "                        break\n",
    "                essential_bits.append(data)\n",
    "\n",
    "utils.save_csv_table(results=essential_bits, csv_pathname=\"./results/essential_bits_results.csv\")"
   ]
  },
  {
   "cell_type": "code",
   "execution_count": null,
   "id": "0b471768-0ee4-412f-8935-82406f0acb28",
   "metadata": {},
   "outputs": [],
   "source": []
  }
 ],
 "metadata": {
  "kernelspec": {
   "display_name": "Python 3 (ipykernel)",
   "language": "python",
   "name": "python3"
  },
  "language_info": {
   "codemirror_mode": {
    "name": "ipython",
    "version": 3
   },
   "file_extension": ".py",
   "mimetype": "text/x-python",
   "name": "python",
   "nbconvert_exporter": "python",
   "pygments_lexer": "ipython3",
   "version": "3.10.12"
  }
 },
 "nbformat": 4,
 "nbformat_minor": 5
}

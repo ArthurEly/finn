{
 "cells": [
  {
   "cell_type": "code",
   "execution_count": 1,
   "id": "83c818b7-bb67-4258-8b78-52c2dca0482b",
   "metadata": {},
   "outputs": [],
   "source": [
    "from cnns_classes import t1_quantizedCNN, t2_quantizedCNN\n",
    "from utils import utils"
   ]
  },
  {
   "cell_type": "code",
   "execution_count": 2,
   "id": "617e9303-91eb-4af6-834d-2ad297119dd6",
   "metadata": {},
   "outputs": [
    {
     "data": {
      "text/plain": [
       "<torch._C.Generator at 0x7dd36c0dc270>"
      ]
     },
     "execution_count": 2,
     "metadata": {},
     "output_type": "execute_result"
    }
   ],
   "source": [
    "#https://www.kaggle.com/code/vmarkin/advatt\n",
    "# carregar as bibliotecas básicas necessárias\n",
    "import pandas as pd\n",
    "import numpy as np\n",
    "import torch\n",
    "import torch.nn as nn\n",
    "from torch.utils.data import Dataset, DataLoader\n",
    "from torchvision import transforms as T\n",
    "from utils import utils\n",
    "import matplotlib.pyplot as plt\n",
    "from sklearn.metrics import confusion_matrix, ConfusionMatrixDisplay\n",
    "from sklearn.metrics import precision_recall_fscore_support as score\n",
    "from sklearn.metrics import accuracy_score\n",
    "\n",
    "# gerar os gráficos logo abaixo dos comandos de plot\n",
    "%matplotlib inline\n",
    "torch.manual_seed(4)"
   ]
  },
  {
   "cell_type": "code",
   "execution_count": 3,
   "id": "8238c963-64f4-4c31-bcf8-1b75c10e6be7",
   "metadata": {},
   "outputs": [],
   "source": [
    "batch_size = 512\n",
    "\n",
    "topologies = [\n",
    "    {\n",
    "        'id':1, \n",
    "        'tp_class':t1_quantizedCNN,\n",
    "        'quant': [2,4,8]\n",
    "    },\n",
    "    {\n",
    "        'id':2, \n",
    "        'tp_class':t2_quantizedCNN,\n",
    "        'quant': [2,4,8]\n",
    "    }\n",
    "]\n",
    "\n",
    "target_fps_list = [500,5000,50000]\n",
    "\n",
    "device = torch.device('cpu')"
   ]
  },
  {
   "cell_type": "code",
   "execution_count": 4,
   "id": "a9141b4e-a4a4-4417-85e5-4d823223092d",
   "metadata": {},
   "outputs": [],
   "source": [
    "class SatImgDataset(Dataset):\n",
    "    def __init__(self, X, y):\n",
    "        self.X = X\n",
    "        self.y = y\n",
    "        self.transform = T.ToTensor()\n",
    "    def __len__(self):\n",
    "        return len(self.y)\n",
    "    \n",
    "    def __getitem__(self, index):\n",
    "        x = self.transform(self.X[index])\n",
    "        y = torch.FloatTensor(self.y[index])\n",
    "        return {'x':x, 'y':y}"
   ]
  },
  {
   "cell_type": "code",
   "execution_count": 6,
   "id": "56c9a6c1-1acb-4b92-9ebe-2ddcc7ba4d11",
   "metadata": {},
   "outputs": [],
   "source": [
    "def arraysCorrectness(a,b):\n",
    "    if(len(a) == len(b)):\n",
    "        sucess = 0\n",
    "        for i in range(len(a)):\n",
    "            if (int(a[i]) == b[i]):\n",
    "                sucess = sucess + 1            \n",
    "    \n",
    "        correctness = sucess/len(a)\n",
    "        return correctness"
   ]
  },
  {
   "cell_type": "code",
   "execution_count": 7,
   "id": "fb07783e-a485-4b13-898e-b1d7ea62169b",
   "metadata": {},
   "outputs": [
    {
     "name": "stdout",
     "output_type": "stream",
     "text": [
      "Files ./pynq_results/runs/t1w2/hardware_output_t1w2_500fps.npy and ./pynq_results/runs/t1w2/hardware_output_t1w2_5000fps.npy are identical\n",
      "Files ./pynq_results/runs/t1w2/hardware_output_t1w2_500fps.npy and ./pynq_results/runs/t1w2/hardware_output_t1w2_50000fps.npy are identical\n",
      "Files ./pynq_results/runs/t1w4/hardware_output_t1w4_500fps.npy and ./pynq_results/runs/t1w4/hardware_output_t1w4_5000fps.npy are identical\n",
      "Files ./pynq_results/runs/t1w4/hardware_output_t1w4_500fps.npy and ./pynq_results/runs/t1w4/hardware_output_t1w4_50000fps.npy are identical\n",
      "Files ./pynq_results/runs/t1w8/hardware_output_t1w8_500fps.npy and ./pynq_results/runs/t1w8/hardware_output_t1w8_5000fps.npy are identical\n",
      "Files ./pynq_results/runs/t1w8/hardware_output_t1w8_500fps.npy and ./pynq_results/runs/t1w8/hardware_output_t1w8_50000fps.npy are identical\n",
      "Files ./pynq_results/runs/t2w2/hardware_output_t2w2_500fps.npy and ./pynq_results/runs/t2w2/hardware_output_t2w2_5000fps.npy are identical\n",
      "Files ./pynq_results/runs/t2w2/hardware_output_t2w2_500fps.npy and ./pynq_results/runs/t2w2/hardware_output_t2w2_50000fps.npy are identical\n",
      "Files ./pynq_results/runs/t2w4/hardware_output_t2w4_500fps.npy and ./pynq_results/runs/t2w4/hardware_output_t2w4_5000fps.npy are identical\n",
      "Files ./pynq_results/runs/t2w4/hardware_output_t2w4_500fps.npy and ./pynq_results/runs/t2w4/hardware_output_t2w4_50000fps.npy are identical\n",
      "Files ./pynq_results/runs/t2w8/hardware_output_t2w8_500fps.npy and ./pynq_results/runs/t2w8/hardware_output_t2w8_5000fps.npy are identical\n",
      "Files ./pynq_results/runs/t2w8/hardware_output_t2w8_500fps.npy and ./pynq_results/runs/t2w8/hardware_output_t2w8_50000fps.npy are identical\n"
     ]
    }
   ],
   "source": [
    "#checking if the outputs are the same...they are!!!\n",
    "for tp in topologies:\n",
    "    for quant in tp['quant']:\n",
    "        hardware_config_name = f\"t{tp['id']}w{quant}\"\n",
    "        ! diff -s ./pynq_results/runs/{hardware_config_name}/hardware_output_{hardware_config_name}_500fps.npy ./pynq_results/runs/{hardware_config_name}/hardware_output_{hardware_config_name}_5000fps.npy\n",
    "        ! diff -s ./pynq_results/runs/{hardware_config_name}/hardware_output_{hardware_config_name}_500fps.npy ./pynq_results/runs/{hardware_config_name}/hardware_output_{hardware_config_name}_50000fps.npy"
   ]
  },
  {
   "cell_type": "code",
   "execution_count": 30,
   "id": "1a7bfebf-f930-4123-929b-3d5a4c8f611b",
   "metadata": {},
   "outputs": [
    {
     "name": "stdout",
     "output_type": "stream",
     "text": [
      "priting for class 0\n",
      "[18, 19, 106, 241, 297, 365, 400, 429, 455, 600, 673, 676, 685, 764, 766, 876, 891, 927, 939, 965, 995]\n",
      "\n",
      "priting for class 1\n",
      "[3, 7, 22, 24, 27, 29, 35, 49, 51, 60, 66, 67, 74, 75, 83, 91, 96, 97, 104, 107, 111, 112, 115, 117, 118, 123, 127, 141, 142, 150, 153, 154, 155, 157, 161, 166, 174, 177, 181, 182, 185, 197, 198, 202, 204, 205, 208, 211, 212, 213, 214, 219, 223, 226, 227, 232, 236, 243, 245, 248, 249, 255, 274, 278, 279, 292, 296, 301, 302, 307, 312, 317, 318, 323, 336, 340, 341, 343, 361, 362, 369, 377, 381, 386, 388, 397, 401, 408, 415, 417, 424, 425, 442, 456, 459, 466, 469, 479, 482, 485, 488, 490, 495, 497, 500, 502, 503, 514, 519, 520, 523, 531, 534, 545, 547, 549, 554, 560, 562, 565, 566, 568, 581, 587, 594, 617, 621, 622, 630, 639, 646, 648, 650, 652, 661, 666, 670, 672, 679, 690, 694, 695, 700, 701, 707, 709, 711, 713, 715, 717, 728, 732, 733, 735, 742, 743, 750, 753, 754, 757, 765, 771, 773, 774, 776, 778, 789, 794, 798, 806, 810, 816, 830, 836, 837, 840, 848, 854, 856, 858, 860, 861, 864, 874, 881, 888, 895, 899, 901, 903, 905, 906, 907, 909, 911, 916, 923, 924, 926, 928, 930, 934, 936, 938, 942, 949, 950, 959, 967, 972, 975, 981, 983]\n",
      "\n",
      "priting for class 2\n",
      "[0, 1, 5, 11, 14, 39, 40, 42, 44, 47, 52, 54, 55, 56, 65, 70, 81, 86, 89, 90, 93, 94, 95, 119, 126, 128, 130, 133, 136, 143, 145, 146, 147, 148, 156, 158, 167, 172, 173, 184, 191, 194, 195, 203, 221, 224, 229, 234, 254, 268, 273, 276, 280, 284, 300, 309, 320, 324, 349, 356, 357, 358, 363, 364, 366, 373, 375, 378, 382, 392, 414, 447, 449, 452, 460, 465, 467, 473, 476, 483, 491, 493, 494, 499, 513, 517, 538, 540, 541, 552, 553, 563, 564, 571, 573, 579, 583, 586, 605, 607, 611, 612, 613, 618, 635, 658, 664, 674, 677, 681, 691, 692, 703, 721, 722, 724, 726, 731, 734, 736, 738, 755, 759, 763, 768, 786, 802, 813, 819, 821, 822, 827, 832, 853, 873, 877, 879, 883, 884, 896, 897, 902, 908, 912, 913, 919, 921, 922, 931, 947, 957, 958, 960, 970, 971, 977, 982, 986, 987, 989, 991, 993, 994, 996]\n",
      "\n",
      "priting for class 3\n",
      "[15, 21, 38, 43, 53, 57, 71, 78, 92, 99, 109, 140, 169, 186, 196, 201, 220, 228, 233, 237, 238, 239, 261, 267, 285, 288, 291, 308, 321, 322, 335, 339, 346, 360, 394, 395, 441, 451, 454, 480, 492, 496, 509, 526, 530, 542, 557, 574, 576, 593, 619, 620, 625, 627, 642, 649, 655, 669, 671, 680, 689, 698, 702, 705, 710, 716, 730, 737, 749, 752, 785, 787, 788, 807, 809, 811, 824, 825, 829, 844, 851, 866, 867, 869, 885, 910, 932, 944, 951, 952, 974, 980]\n",
      "\n",
      "priting for class 4\n",
      "[286, 315, 344, 402, 590, 615, 842, 865, 875]\n",
      "\n",
      "priting for class 5\n",
      "[2, 4, 6, 8, 9, 10, 13, 17, 23, 26, 30, 31, 32, 33, 36, 41, 45, 48, 58, 59, 61, 63, 68, 69, 72, 73, 76, 77, 79, 80, 82, 87, 100, 101, 103, 108, 110, 113, 116, 124, 125, 129, 132, 137, 138, 144, 151, 159, 160, 162, 163, 165, 168, 170, 175, 176, 178, 180, 183, 188, 189, 190, 192, 199, 206, 209, 210, 217, 218, 230, 235, 240, 242, 244, 246, 250, 251, 252, 256, 257, 258, 259, 260, 262, 263, 264, 265, 271, 272, 275, 277, 281, 282, 287, 293, 295, 298, 299, 303, 304, 306, 310, 311, 313, 316, 319, 326, 328, 332, 334, 337, 338, 345, 347, 348, 350, 352, 353, 354, 355, 367, 368, 370, 371, 372, 374, 376, 379, 383, 384, 385, 389, 390, 391, 393, 396, 398, 399, 405, 406, 407, 409, 410, 411, 412, 418, 420, 421, 422, 423, 426, 427, 428, 431, 433, 434, 435, 436, 438, 439, 440, 443, 444, 445, 446, 450, 453, 457, 458, 464, 468, 472, 475, 478, 481, 484, 489, 498, 501, 505, 506, 510, 515, 521, 522, 524, 527, 528, 533, 536, 544, 546, 550, 551, 556, 558, 559, 561, 567, 569, 570, 575, 578, 582, 585, 588, 589, 591, 595, 597, 598, 602, 603, 604, 606, 609, 610, 614, 616, 623, 626, 628, 629, 631, 632, 633, 634, 637, 638, 640, 641, 643, 644, 647, 653, 654, 656, 657, 659, 663, 665, 668, 682, 683, 684, 686, 687, 688, 693, 704, 712, 714, 720, 723, 725, 727, 739, 741, 744, 745, 746, 748, 751, 756, 758, 760, 767, 769, 770, 772, 775, 779, 780, 781, 782, 783, 784, 791, 792, 793, 795, 796, 799, 800, 803, 804, 805, 808, 812, 817, 818, 820, 823, 826, 828, 831, 833, 834, 835, 838, 839, 841, 845, 846, 847, 849, 850, 852, 859, 863, 870, 871, 872, 878, 880, 882, 887, 892, 894, 898, 900, 915, 917, 918, 920, 925, 929, 941, 943, 945, 953, 954, 955, 956, 961, 962, 964, 966, 973, 978, 979, 984, 985, 988, 992, 997, 998, 999]\n",
      "\n"
     ]
    },
    {
     "name": "stderr",
     "output_type": "stream",
     "text": [
      "/tmp/ipykernel_1588/300459336.py:24: DeprecationWarning: Conversion of an array with ndim > 0 to a scalar is deprecated, and will error in future. Ensure you extract a single element from your array before performing this operation. (Deprecated NumPy 1.25.)\n",
      "  imgs_hash[int(outputs[0][i])].append(i)\n"
     ]
    }
   ],
   "source": [
    "outputs = []\n",
    "\n",
    "for tp in topologies:\n",
    "    for quant in tp['quant']:\n",
    "            if quant == 2:\n",
    "                continue\n",
    "            hardware_config_name = f\"t{tp['id']}w{quant}\"\n",
    "            hardware_outputs = np.load(f\"./pynq_results/runs/{hardware_config_name}/hardware_output_{hardware_config_name}_500fps.npy\")\n",
    "            outputs.append(hardware_outputs)\n",
    "\n",
    "imgs_id = []\n",
    "imgs_hash = [[],[],[],[],[],[]]\n",
    "\n",
    "for i in range(len(outputs[0])):\n",
    "    matches = 0\n",
    "    for j in range(len(outputs)):\n",
    "        if outputs[0][i] == outputs[j][i]:\n",
    "            matches += 1\n",
    "        \n",
    "    if matches != len(outputs):\n",
    "        continue\n",
    "    else:\n",
    "        imgs_id.append(i)\n",
    "        imgs_hash[int(outputs[0][i])].append(i)\n",
    "        \n",
    "\n",
    "#testing\n",
    "i = 0;\n",
    "for id_list in imgs_hash:\n",
    "    print(f\"priting for class {i}\")\n",
    "    print(f\"{id_list}\");\n",
    "    print(f\"\")    \n",
    "    i+=1"
   ]
  },
  {
   "cell_type": "code",
   "execution_count": 13,
   "id": "e4b26ab5-ac65-488f-97ac-c7f9d87c1961",
   "metadata": {},
   "outputs": [],
   "source": [
    "#TODO: PYNQ outputs"
   ]
  }
 ],
 "metadata": {
  "kernelspec": {
   "display_name": "Python 3 (ipykernel)",
   "language": "python",
   "name": "python3"
  },
  "language_info": {
   "codemirror_mode": {
    "name": "ipython",
    "version": 3
   },
   "file_extension": ".py",
   "mimetype": "text/x-python",
   "name": "python",
   "nbconvert_exporter": "python",
   "pygments_lexer": "ipython3",
   "version": "3.10.12"
  }
 },
 "nbformat": 4,
 "nbformat_minor": 5
}

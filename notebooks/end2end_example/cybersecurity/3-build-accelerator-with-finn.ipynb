{
 "cells": [
  {
   "cell_type": "code",
   "execution_count": 1,
   "metadata": {},
   "outputs": [
    {
     "name": "stdout",
     "output_type": "stream",
     "text": [
      "Previous run has to be deleted!\n"
     ]
    }
   ],
   "source": [
    "import finn.builder.build_dataflow as build\n",
    "import finn.builder.build_dataflow_config as build_cfg\n",
    "import os\n",
    "import shutil\n",
    "from finn.util.visualization import showInNetron\n",
    "from finn.util.test import get_example_input\n",
    "import numpy as np\n",
    "\n",
    "model_file = \"cybsec-mlp-ready.onnx\"\n",
    "\n",
    "rtlsim_output_dir = \"output_proj\"\n",
    "\n",
    "#Delete previous run results if exist\n",
    "if os.path.exists(rtlsim_output_dir):\n",
    "    # shutil.rmtree(rtlsim_output_dir)\n",
    "    print(\"Previous run has to be deleted!\")\n",
    "\n",
    "cfg_stitched_ip = build.DataflowBuildConfig(\n",
    "    output_dir          = rtlsim_output_dir,\n",
    "    mvau_wwidth_max     = 1000000, #tinha usado 80\n",
    "    target_fps          = 1000000, #tinha usado 100\n",
    "    synth_clk_period_ns = 10.0,\n",
    "    fpga_part           = \"xc7z020clg400-1\", \n",
    "    rtlsim_batch_size   = 1000,\n",
    "    stitched_ip_gen_dcp = True,\n",
    "    board               = \"Pynq-Z1\",\n",
    "    shell_flow_type     = build_cfg.ShellFlowType.VIVADO_ZYNQ,\n",
    "    generate_outputs=[\n",
    "        build_cfg.DataflowOutputType.BITFILE,\n",
    "        build_cfg.DataflowOutputType.PYNQ_DRIVER,\n",
    "        build_cfg.DataflowOutputType.DEPLOYMENT_PACKAGE,\n",
    "    ]\n",
    ")"
   ]
  },
  {
   "cell_type": "code",
   "execution_count": null,
   "metadata": {},
   "outputs": [
    {
     "name": "stdout",
     "output_type": "stream",
     "text": [
      "Building dataflow accelerator from cybsec-mlp-ready.onnx\n",
      "Intermediate outputs will be generated in................ aqui? acho que sim! ->/home/artti/Desktop/finn/notebooks/sat6_cnn/builds_sources\n",
      "Final outputs will be generated in output_proj\n",
      "Build log is at output_proj/build_dataflow.log\n",
      "Running step: step_qonnx_to_finn [1/18]\n",
      "Running step: step_tidy_up [2/18]\n",
      "Running step: step_streamline [3/18]\n",
      "Running step: step_convert_to_hls [4/18]\n",
      "Running step: step_create_dataflow_partition [5/18]\n",
      "Running step: step_target_fps_parallelization [6/18]\n",
      "Running step: step_apply_folding_config [7/18]\n",
      "Running step: step_minimize_bit_width [8/18]\n",
      "Running step: step_generate_estimate_reports [9/18]\n",
      "Running step: step_hls_codegen [10/18]\n",
      "Running step: step_hls_ipgen [11/18]\n",
      "Running step: step_set_fifo_depths [12/18]\n",
      "Running step: step_create_stitched_ip [13/18]\n",
      "Running step: step_measure_rtlsim_performance [14/18]\n",
      "Running step: step_out_of_context_synthesis [15/18]\n",
      "Running step: step_synthesize_bitfile [16/18]\n"
     ]
    },
    {
     "name": "stderr",
     "output_type": "stream",
     "text": [
      "ERROR: [Common 17-161] Invalid option value '' specified for 'objects'.\n",
      "Traceback (most recent call last):\n",
      "  File \"/home/artti/Desktop/finn/src/finn/builder/build_dataflow.py\", line 158, in build_dataflow_cfg\n",
      "    model = transform_step(model, cfg)\n",
      "  File \"/home/artti/Desktop/finn/src/finn/builder/build_dataflow_steps.py\", line 757, in step_synthesize_bitfile\n",
      "    model = model.transform(\n",
      "  File \"/home/artti/Desktop/finn/deps/qonnx/src/qonnx/core/modelwrapper.py\", line 140, in transform\n",
      "    (transformed_model, model_was_changed) = transformation.apply(transformed_model)\n",
      "  File \"/home/artti/Desktop/finn/src/finn/transformation/fpgadataflow/make_zynq_proj.py\", line 349, in apply\n",
      "    model = model.transform(MakeZYNQProject(self.platform, enable_debug=self.enable_debug))\n",
      "  File \"/home/artti/Desktop/finn/deps/qonnx/src/qonnx/core/modelwrapper.py\", line 140, in transform\n",
      "    (transformed_model, model_was_changed) = transformation.apply(transformed_model)\n",
      "  File \"/home/artti/Desktop/finn/src/finn/transformation/fpgadataflow/make_zynq_proj.py\", line 268, in apply\n",
      "    raise Exception(\n",
      "Exception: Synthesis failed, no bitfile found. Check logs under /home/artti/Desktop/finn/notebooks/sat6_cnn/builds_sources/vivado_zynq_proj_81to4u69\n"
     ]
    },
    {
     "name": "stdout",
     "output_type": "stream",
     "text": [
      "> \u001b[0;32m/home/artti/Desktop/finn/src/finn/transformation/fpgadataflow/make_zynq_proj.py\u001b[0m(268)\u001b[0;36mapply\u001b[0;34m()\u001b[0m\n",
      "\u001b[0;32m    266 \u001b[0;31m        \u001b[0mbitfile_name\u001b[0m \u001b[0;34m=\u001b[0m \u001b[0mvivado_pynq_proj_dir\u001b[0m \u001b[0;34m+\u001b[0m \u001b[0;34m\"/finn_zynq_link.runs/impl_1/top_wrapper.bit\"\u001b[0m\u001b[0;34m\u001b[0m\u001b[0;34m\u001b[0m\u001b[0m\n",
      "\u001b[0m\u001b[0;32m    267 \u001b[0;31m        \u001b[0;32mif\u001b[0m \u001b[0;32mnot\u001b[0m \u001b[0mos\u001b[0m\u001b[0;34m.\u001b[0m\u001b[0mpath\u001b[0m\u001b[0;34m.\u001b[0m\u001b[0misfile\u001b[0m\u001b[0;34m(\u001b[0m\u001b[0mbitfile_name\u001b[0m\u001b[0;34m)\u001b[0m\u001b[0;34m:\u001b[0m\u001b[0;34m\u001b[0m\u001b[0;34m\u001b[0m\u001b[0m\n",
      "\u001b[0m\u001b[0;32m--> 268 \u001b[0;31m            raise Exception(\n",
      "\u001b[0m\u001b[0;32m    269 \u001b[0;31m                \u001b[0;34m\"Synthesis failed, no bitfile found. Check logs under %s\"\u001b[0m \u001b[0;34m%\u001b[0m \u001b[0mvivado_pynq_proj_dir\u001b[0m\u001b[0;34m\u001b[0m\u001b[0;34m\u001b[0m\u001b[0m\n",
      "\u001b[0m\u001b[0;32m    270 \u001b[0;31m            )\n",
      "\u001b[0m\n"
     ]
    }
   ],
   "source": [
    "%%time\n",
    "build.build_dataflow_cfg(model_file, cfg_stitched_ip)"
   ]
  },
  {
   "cell_type": "code",
   "execution_count": null,
   "metadata": {},
   "outputs": [],
   "source": [
    "assert os.path.exists(rtlsim_output_dir + \"/report/ooc_synth_and_timing.json\")\n",
    "assert os.path.exists(rtlsim_output_dir + \"/report/rtlsim_performance.json\")\n",
    "assert os.path.exists(rtlsim_output_dir + \"/final_hw_config.json\")"
   ]
  },
  {
   "cell_type": "code",
   "execution_count": null,
   "metadata": {},
   "outputs": [],
   "source": [
    "#Testar agora a compatibilidade entre os resultados e pegar a acurácia"
   ]
  },
  {
   "cell_type": "code",
   "execution_count": null,
   "metadata": {},
   "outputs": [],
   "source": [
    "# import numpy as np\n",
    "\n",
    "# data_array = test_quantized_dataset.tensors[0][:n_verification_inputs].numpy();\n",
    "\n",
    "# # Número de bits em cada conjunto\n",
    "# input_bits = 400\n",
    "# bits_per_set = 40\n",
    "# set_numbers = 15\n",
    "# clock_period = 20\n",
    "# print(\"Imprimindo arrays\")\n",
    "# print(\"-----------------\")\n",
    "# print(\"s_axis_0_tvalid = 1;\")\n",
    "# print(\"m_axis_0_tready = 1;\")\n",
    "# for data in data_array:\n",
    "#     # Dividir o array em conjuntos de x bits\n",
    "#     sets = [data[i:i + bits_per_set] for i in range(0, len(data), bits_per_set)]\n",
    "#     # Formatar a saída\n",
    "#     for i, conjunto in enumerate(sets):\n",
    "#         # Converter o conjunto para uma string de 40 bits\n",
    "#         conjunto = (conjunto+1)/2\n",
    "#         bit_string = ''.join(map(str, conjunto.astype(int)))\n",
    "#         # Imprimir a saída formatada\n",
    "\n",
    "#         if (i%(set_numbers) == 0):\n",
    "#             print(f\"s_axis_0_tdata = {bits_per_set}'b{bit_string[::-1]};\")\n",
    "#         else:\n",
    "#             print(f\"#{clock_period} s_axis_0_tdata = {bits_per_set}'b{bit_string[::-1]};\")\n",
    "#     print(f\"#{clock_period}\")\n",
    "#     print(\"s_axis_0_tvalid = 0;\")\n",
    "#     print(f\"s_axis_0_tdata = {bits_per_set}'b0_0;\")    \n",
    "#     print(f\"#{100*clock_period*set_numbers}\")\n",
    "#     print(\"s_axis_0_tvalid = 1;\")\n",
    "\n",
    "    \n",
    "# print(f\"#{clock_period}\")\n",
    "# print(f\"s_axis_0_tdata = {bits_per_set}'b0_0;\") \n",
    "# print(\"s_axis_0_tvalid = 0;\")\n",
    "# print(\"m_axis_0_tready = 0;\")\n",
    "# print(\"----------------------------\")\n",
    "# print(\"Nro de entradas:\" + str(len(data_array)))"
   ]
  },
  {
   "cell_type": "code",
   "execution_count": null,
   "metadata": {},
   "outputs": [],
   "source": [
    "# import numpy\n",
    "# import os\n",
    "# import re\n",
    "\n",
    "# caminho_da_pasta = \"/home/afely/Desktop/finn-notebook/notebooks/end2end_example/cybersecurity/output_ipstitch_ooc_rtlsim/verification_output\"\n",
    "\n",
    "# arquivos_na_pasta = os.listdir(caminho_da_pasta)\n",
    "\n",
    "# array_outputs = numpy.zeros(len(arquivos_na_pasta))\n",
    "\n",
    "# # Itera sobre cada arquivo\n",
    "# for nome_arquivo in arquivos_na_pasta:\n",
    "#     caminho_arquivo = os.path.join(caminho_da_pasta, nome_arquivo)\n",
    "#     output = numpy.load(caminho_arquivo)\n",
    "#     padrao = re.compile(r\"_([0-9]+)_\")\n",
    "#     correspondencia = padrao.search(nome_arquivo)    \n",
    "#     numero_do_teste = int(correspondencia.group(1))\n",
    "#     array_outputs[numero_do_teste] = output[0]\n",
    "\n",
    "# array_outputs_base = output_tensor.numpy()\n",
    "\n",
    "# if(len(array_outputs) == len(array_outputs_base)):\n",
    "#     sucess = 0\n",
    "#     for i in range(len(array_outputs)):\n",
    "#         if (array_outputs[i] == array_outputs_base[i]):\n",
    "#             sucess = sucess + 1\n",
    "#             if(array_outputs[i] == 1):\n",
    "#                 print(\"(1) Igual em \" + str(i))\n",
    "#             else:\n",
    "#                 print(\"(0) Igual em \" + str(i))                \n",
    "#         else:\n",
    "#             if(array_outputs[i] == 1):\n",
    "#                 print(\"(1) Diferença em \" + str(i))\n",
    "#             else:\n",
    "#                 print(\"(0) Diferença em \" + str(i)) \n",
    "\n",
    "\n",
    "#     precision = sucess/len(array_outputs)\n",
    "#     print(precision)\n",
    "\n",
    "# #ele ta comparando estranho\n",
    "# #o meu array outuputs ta gerando -1 ao inves de 0"
   ]
  },
  {
   "cell_type": "code",
   "execution_count": null,
   "metadata": {},
   "outputs": [],
   "source": [
    "# model_file = \"/home/finn/Desktop/finn/notebooks/end2end_example/cybersecurity/output_ipstitch_ooc_rtlsim/intermediate_models/step_create_stitched_ip.onnx\"\n",
    "# showInNetron(model_file)"
   ]
  },
  {
   "cell_type": "code",
   "execution_count": null,
   "metadata": {},
   "outputs": [],
   "source": []
  }
 ],
 "metadata": {
  "kernelspec": {
   "display_name": "Python 3 (ipykernel)",
   "language": "python",
   "name": "python3"
  },
  "language_info": {
   "codemirror_mode": {
    "name": "ipython",
    "version": 3
   },
   "file_extension": ".py",
   "mimetype": "text/x-python",
   "name": "python",
   "nbconvert_exporter": "python",
   "pygments_lexer": "ipython3",
   "version": "3.10.12"
  }
 },
 "nbformat": 4,
 "nbformat_minor": 4
}

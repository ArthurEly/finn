{
 "cells": [
  {
   "cell_type": "code",
   "execution_count": 1,
   "id": "50cf2c7d-8de1-480d-a6a8-65bd364c65b3",
   "metadata": {},
   "outputs": [
    {
     "name": "stdout",
     "output_type": "stream",
     "text": [
      "Previous run has to be deleted!\n"
     ]
    }
   ],
   "source": [
    "import finn.builder.build_dataflow as build\n",
    "import finn.builder.build_dataflow_config as build_cfg\n",
    "import os\n",
    "import shutil\n",
    "from finn.util.visualization import showInNetron\n",
    "from finn.util.test import get_example_input\n",
    "import numpy as np\n",
    "\n",
    "model_file = \"./rede_arrumada.onnx\"\n",
    "\n",
    "rtlsim_output_dir = \"./output_ipstitch_estimate_reports\"\n",
    "\n",
    "#Delete previous run results if exist\n",
    "if os.path.exists(rtlsim_output_dir):\n",
    "    # shutil.rmtree(rtlsim_output_dir)\n",
    "    print(\"Previous run has to be deleted!\")\n",
    "\n",
    "cfg_stitched_ip = build.DataflowBuildConfig(\n",
    "    output_dir          = rtlsim_output_dir,\n",
    "    mvau_wwidth_max     = 80,\n",
    "    target_fps          = 1000000,\n",
    "    synth_clk_period_ns = 10.0,\n",
    "    fpga_part           = \"xc7a100tcsg324-1\",\n",
    "    rtlsim_batch_size   = 1000000,\n",
    "    generate_outputs=[\n",
    "        build_cfg.DataflowOutputType.ESTIMATE_REPORTS,\n",
    "        build_cfg.DataflowOutputType.RTLSIM_PERFORMANCE\n",
    "    ]\n",
    ")"
   ]
  },
  {
   "cell_type": "code",
   "execution_count": null,
   "id": "7f0b530e-3483-4bb1-976f-44edb87bcce1",
   "metadata": {},
   "outputs": [
    {
     "name": "stdout",
     "output_type": "stream",
     "text": [
      "Building dataflow accelerator from ./rede_arrumada.onnx\n",
      "Intermediate outputs will be generated in /tmp/finn_dev_finn\n",
      "Final outputs will be generated in ./output_ipstitch_estimate_reports\n",
      "Build log is at ./output_ipstitch_estimate_reports/build_dataflow.log\n",
      "Running step: step_qonnx_to_finn [1/18]\n",
      "Running step: step_tidy_up [2/18]\n",
      "Running step: step_streamline [3/18]\n"
     ]
    },
    {
     "name": "stderr",
     "output_type": "stream",
     "text": [
      "Traceback (most recent call last):\n",
      "  File \"/home/finn/Desktop/finn/src/finn/builder/build_dataflow.py\", line 158, in build_dataflow_cfg\n",
      "    model = transform_step(model, cfg)\n",
      "  File \"/home/finn/Desktop/finn/src/finn/builder/build_dataflow_steps.py\", line 371, in step_create_dataflow_partition\n",
      "    parent_model = model.transform(\n",
      "  File \"/home/finn/Desktop/finn/deps/qonnx/src/qonnx/core/modelwrapper.py\", line 140, in transform\n",
      "    (transformed_model, model_was_changed) = transformation.apply(transformed_model)\n",
      "  File \"/home/finn/Desktop/finn/src/finn/transformation/fpgadataflow/create_dataflow_partition.py\", line 80, in apply\n",
      "    parent_model = model.transform(\n",
      "  File \"/home/finn/Desktop/finn/deps/qonnx/src/qonnx/core/modelwrapper.py\", line 140, in transform\n",
      "    (transformed_model, model_was_changed) = transformation.apply(transformed_model)\n",
      "  File \"/home/finn/Desktop/finn/deps/qonnx/src/qonnx/transformation/create_generic_partitions.py\", line 119, in apply\n",
      "    self.partitioning(node) != partition_id\n",
      "AssertionError: cycle-free graph violated: partition depends on itself\n"
     ]
    },
    {
     "name": "stdout",
     "output_type": "stream",
     "text": [
      "Running step: step_convert_to_hls [4/18]\n",
      "Running step: step_create_dataflow_partition [5/18]\n",
      "> \u001b[0;32m/home/finn/Desktop/finn/deps/qonnx/src/qonnx/transformation/create_generic_partitions.py\u001b[0m(119)\u001b[0;36mapply\u001b[0;34m()\u001b[0m\n",
      "\u001b[0;32m    117 \u001b[0;31m                    \u001b[0;32mif\u001b[0m \u001b[0mnode\u001b[0m \u001b[0;32mis\u001b[0m \u001b[0;32mnot\u001b[0m \u001b[0;32mNone\u001b[0m\u001b[0;34m:\u001b[0m\u001b[0;34m\u001b[0m\u001b[0;34m\u001b[0m\u001b[0m\n",
      "\u001b[0m\u001b[0;32m    118 \u001b[0;31m                        assert (\n",
      "\u001b[0m\u001b[0;32m--> 119 \u001b[0;31m                            \u001b[0mself\u001b[0m\u001b[0;34m.\u001b[0m\u001b[0mpartitioning\u001b[0m\u001b[0;34m(\u001b[0m\u001b[0mnode\u001b[0m\u001b[0;34m)\u001b[0m \u001b[0;34m!=\u001b[0m \u001b[0mpartition_id\u001b[0m\u001b[0;34m\u001b[0m\u001b[0;34m\u001b[0m\u001b[0m\n",
      "\u001b[0m\u001b[0;32m    120 \u001b[0;31m                        ), \"\"\"cycle-free graph violated: partition depends on itself\"\"\"\n",
      "\u001b[0m\u001b[0;32m    121 \u001b[0;31m                        \u001b[0;31m# print(node)\u001b[0m\u001b[0;34m\u001b[0m\u001b[0;34m\u001b[0m\u001b[0m\n",
      "\u001b[0m\n"
     ]
    }
   ],
   "source": [
    "%%time\n",
    "build.build_dataflow_cfg(model_file, cfg_stitched_ip)"
   ]
  },
  {
   "cell_type": "code",
   "execution_count": null,
   "id": "632f1d9f-7313-431c-bc53-a6963e4e9588",
   "metadata": {},
   "outputs": [],
   "source": []
  }
 ],
 "metadata": {
  "kernelspec": {
   "display_name": "Python 3 (ipykernel)",
   "language": "python",
   "name": "python3"
  },
  "language_info": {
   "codemirror_mode": {
    "name": "ipython",
    "version": 3
   },
   "file_extension": ".py",
   "mimetype": "text/x-python",
   "name": "python",
   "nbconvert_exporter": "python",
   "pygments_lexer": "ipython3",
   "version": "3.10.12"
  }
 },
 "nbformat": 4,
 "nbformat_minor": 5
}

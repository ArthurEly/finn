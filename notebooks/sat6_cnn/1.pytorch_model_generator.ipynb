{
 "cells": [
  {
   "cell_type": "code",
   "execution_count": 2,
   "id": "99d5266e-78b6-4fad-90de-6a09031b68b1",
   "metadata": {},
   "outputs": [],
   "source": [
    "from cnns_classes import t1_quantizedCNN, t2_quantizedCNN"
   ]
  },
  {
   "cell_type": "code",
   "execution_count": null,
   "id": "e6a6eafe-756e-47f0-895a-4eb30ac7667f",
   "metadata": {},
   "outputs": [
    {
     "data": {
      "text/plain": [
       "<torch._C.Generator at 0x7854423f0130>"
      ]
     },
     "execution_count": 3,
     "metadata": {},
     "output_type": "execute_result"
    }
   ],
   "source": [
    "#https://www.kaggle.com/code/vmarkin/advatt\n",
    "# carregar as bibliotecas básicas necessárias\n",
    "import pandas as pd\n",
    "import numpy as np\n",
    "import matplotlib.pyplot as plt\n",
    "import torch.nn.functional as F\n",
    "import torch\n",
    "import torch.nn as nn\n",
    "from torch.utils.data import Dataset, DataLoader\n",
    "from torchvision import transforms as T\n",
    "from tqdm import tqdm\n",
    "from sklearn.metrics import accuracy_score\n",
    "\n",
    "# gerar os gráficos logo abaixo dos comandos de plot\n",
    "%matplotlib inline\n",
    "torch.manual_seed(4)"
   ]
  },
  {
   "cell_type": "code",
   "execution_count": 4,
   "id": "6e0444de-7a5d-478b-a1ce-9d4764d356a3",
   "metadata": {},
   "outputs": [],
   "source": [
    "batch_size = 512\n",
    "\n",
    "train_dataset_output_name = \"train_dataset.pkl\"\n",
    "test_dataset_output_name = \"test_dataset.pkl\"\n",
    "\n",
    "t1_quantizations=[2,4,8]\n",
    "t2_quantizations=[2,4,8]\n",
    "\n",
    "device = torch.device('cpu')"
   ]
  },
  {
   "cell_type": "code",
   "execution_count": 5,
   "id": "745fb0d9-113d-43b4-9b33-5d3684477053",
   "metadata": {},
   "outputs": [],
   "source": [
    "class SatImgDataset(Dataset):\n",
    "    def __init__(self, X, y):\n",
    "        self.X = X\n",
    "        self.y = y\n",
    "        self.transform = T.ToTensor()\n",
    "    def __len__(self):\n",
    "        return len(self.y)\n",
    "    \n",
    "    def __getitem__(self, index):\n",
    "        x = self.transform(self.X[index])\n",
    "        y = torch.FloatTensor(self.y[index])\n",
    "        return {'x':x, 'y':y}"
   ]
  },
  {
   "cell_type": "code",
   "execution_count": null,
   "id": "07b9a964-b1a5-454d-8ef0-19c8e4f7fdc9",
   "metadata": {},
   "outputs": [],
   "source": [
    "#falta testar\n",
    "from utils import utils\n",
    "dataset_train = utils.read_object(train_dataset_output_name)\n",
    "loader_train = DataLoader(dataset_train, batch_size, shuffle=True)\n",
    "del dataset_train\n",
    "\n",
    "\n",
    "dataset_test = utils.read_object(test_dataset_output_name)\n",
    "loader_test = DataLoader(dataset_test, batch_size, shuffle=False)\n",
    "del dataset_test"
   ]
  },
  {
   "cell_type": "code",
   "execution_count": 7,
   "id": "822ab435-9b3f-4330-a85c-5bf676086302",
   "metadata": {},
   "outputs": [],
   "source": [
    "def get_model_output_filename (topology,quant):\n",
    "    return f\"./pytorch_models/sat6-cnn-t{topology}w{quant}.pt\""
   ]
  },
  {
   "cell_type": "code",
   "execution_count": 8,
   "id": "1a6a9c23-0fbf-4ef5-8981-01fa079434c5",
   "metadata": {},
   "outputs": [],
   "source": [
    "def train_model(epochs,lr,topology,topology_class,quant):\n",
    "    print(f\"training t{topology}w{quant}\")\n",
    "    model = topology_class(bit_quantization=quant)\n",
    "    optimizer = torch.optim.Adam(model.parameters(), lr=lr)\n",
    "    epochs = epochs\n",
    "    criterion = nn.CrossEntropyLoss()\n",
    "    model.train()\n",
    "    i=0\n",
    "    for e in range(epochs):\n",
    "        if i % 5 == 0:\n",
    "            print(f\"epoch ({i})\") \n",
    "        for batch in tqdm(loader_train):\n",
    "            pred = model(batch['x'].to(device))\n",
    "            loss = criterion(pred, batch['y'].to(device))\n",
    "            optimizer.zero_grad()\n",
    "            loss.backward()\n",
    "            optimizer.step()\n",
    "        i+=1\n",
    "\n",
    "    print(\"saving the pytorch model...\")    \n",
    "    torch.save(model.state_dict(), get_model_output_filename(topology=topology,quant=quant))\n",
    "    print(\"finishing training\")\n",
    "    return get_model_output_filename(topology=topology,quant=quant)"
   ]
  },
  {
   "cell_type": "code",
   "execution_count": 9,
   "id": "2a783fdf-81d5-4b5e-b9ec-b091f5ac7efa",
   "metadata": {},
   "outputs": [],
   "source": [
    "def test_model(topology,topology_class,model_filename,quant):\n",
    "    print(f\"testing t{topology}w{quant}\")\n",
    "    model = topology_class(bit_quantization=quant)\n",
    "    model.load_state_dict(torch.load(model_filename))\n",
    "    with torch.no_grad():\n",
    "        correct = 0\n",
    "        i=0\n",
    "        for batch in loader_test:\n",
    "            pred = model(batch['x'].to(device))\n",
    "            predicted = torch.max(pred, 1)[1]\n",
    "            real_class = torch.max(batch['y'].to(device), 1)[1]\n",
    "            correct += (predicted == real_class).sum()    \n",
    "    accuracy = correct.item()/len(dataset_test)*100\n",
    "    print(f\"accuracy of this model: {accuracy}% ({len(dataset_test)} test cases)\")\n",
    "    print(f\"finishing testing\")"
   ]
  },
  {
   "cell_type": "code",
   "execution_count": 10,
   "id": "a0cde61d-e7de-4dc6-83ef-501f1fc1ea87",
   "metadata": {},
   "outputs": [],
   "source": [
    "def make_model(topology_class,topology,quant):\n",
    "    print(f\"starting to generate pytorch model t{topology}w{quant}\")\n",
    "    model_filename = train_model(epochs=1,topology=topology,lr=3e-4,topology_class=topology_class,quant=quant)\n",
    "    test_model(topology=topology,topology_class=topology_class,model_filename=model_filename,quant=quant)\n",
    "    print(f\"finishing model generate\")\n",
    "    print(f\"------------------------\")"
   ]
  },
  {
   "cell_type": "code",
   "execution_count": 11,
   "id": "cd77812c-a8b5-4f1c-94ff-93f654252f12",
   "metadata": {},
   "outputs": [
    {
     "name": "stdout",
     "output_type": "stream",
     "text": [
      "starting to generate pytorch model t1w2\n",
      "training t1w2\n",
      "epoch (0)\n"
     ]
    },
    {
     "name": "stderr",
     "output_type": "stream",
     "text": [
      "100%|█████████████████████████████████████████████| 1/1 [00:01<00:00,  1.78s/it]\n"
     ]
    },
    {
     "name": "stdout",
     "output_type": "stream",
     "text": [
      "saving the pytorch model...\n",
      "finishing training\n",
      "testing t1w2\n",
      "accuracy of this model: 15.8203125% (512 test cases)\n",
      "finishing testing\n",
      "finishing model generate\n",
      "------------------------\n",
      "starting to generate pytorch model t1w4\n",
      "training t1w4\n",
      "epoch (0)\n"
     ]
    },
    {
     "name": "stderr",
     "output_type": "stream",
     "text": [
      "100%|█████████████████████████████████████████████| 1/1 [00:01<00:00,  1.43s/it]\n"
     ]
    },
    {
     "name": "stdout",
     "output_type": "stream",
     "text": [
      "saving the pytorch model...\n",
      "finishing training\n",
      "testing t1w4\n",
      "accuracy of this model: 3.7109375% (512 test cases)\n",
      "finishing testing\n",
      "finishing model generate\n",
      "------------------------\n",
      "starting to generate pytorch model t1w8\n",
      "training t1w8\n",
      "epoch (0)\n"
     ]
    },
    {
     "name": "stderr",
     "output_type": "stream",
     "text": [
      "100%|█████████████████████████████████████████████| 1/1 [00:01<00:00,  1.28s/it]\n"
     ]
    },
    {
     "name": "stdout",
     "output_type": "stream",
     "text": [
      "saving the pytorch model...\n",
      "finishing training\n",
      "testing t1w8\n",
      "accuracy of this model: 16.6015625% (512 test cases)\n",
      "finishing testing\n",
      "finishing model generate\n",
      "------------------------\n",
      "starting to generate pytorch model t2w2\n",
      "training t2w2\n",
      "epoch (0)\n"
     ]
    },
    {
     "name": "stderr",
     "output_type": "stream",
     "text": [
      "100%|█████████████████████████████████████████████| 1/1 [00:01<00:00,  1.55s/it]\n"
     ]
    },
    {
     "name": "stdout",
     "output_type": "stream",
     "text": [
      "saving the pytorch model...\n",
      "finishing training\n",
      "testing t2w2\n",
      "accuracy of this model: 14.84375% (512 test cases)\n",
      "finishing testing\n",
      "finishing model generate\n",
      "------------------------\n",
      "starting to generate pytorch model t2w4\n",
      "training t2w4\n",
      "epoch (0)\n"
     ]
    },
    {
     "name": "stderr",
     "output_type": "stream",
     "text": [
      "100%|█████████████████████████████████████████████| 1/1 [00:01<00:00,  1.50s/it]\n"
     ]
    },
    {
     "name": "stdout",
     "output_type": "stream",
     "text": [
      "saving the pytorch model...\n",
      "finishing training\n",
      "testing t2w4\n",
      "accuracy of this model: 3.7109375% (512 test cases)\n",
      "finishing testing\n",
      "finishing model generate\n",
      "------------------------\n",
      "starting to generate pytorch model t2w8\n",
      "training t2w8\n",
      "epoch (0)\n"
     ]
    },
    {
     "name": "stderr",
     "output_type": "stream",
     "text": [
      "100%|█████████████████████████████████████████████| 1/1 [00:01<00:00,  1.63s/it]\n"
     ]
    },
    {
     "name": "stdout",
     "output_type": "stream",
     "text": [
      "saving the pytorch model...\n",
      "finishing training\n",
      "testing t2w8\n",
      "accuracy of this model: 18.75% (512 test cases)\n",
      "finishing testing\n",
      "finishing model generate\n",
      "------------------------\n"
     ]
    }
   ],
   "source": [
    "for quant in t1_quantizations:\n",
    "    make_model(topology_class=t1_quantizedCNN,topology=1,quant=quant)\n",
    "\n",
    "for quant in t2_quantizations:\n",
    "    make_model(topology_class=t2_quantizedCNN,topology=2,quant=quant)"
   ]
  },
  {
   "cell_type": "code",
   "execution_count": null,
   "id": "0ce65542-219a-4164-a807-6220e2b77149",
   "metadata": {},
   "outputs": [],
   "source": []
  }
 ],
 "metadata": {
  "kernelspec": {
   "display_name": "Python 3 (ipykernel)",
   "language": "python",
   "name": "python3"
  },
  "language_info": {
   "codemirror_mode": {
    "name": "ipython",
    "version": 3
   },
   "file_extension": ".py",
   "mimetype": "text/x-python",
   "name": "python",
   "nbconvert_exporter": "python",
   "pygments_lexer": "ipython3",
   "version": "3.10.12"
  }
 },
 "nbformat": 4,
 "nbformat_minor": 5
}

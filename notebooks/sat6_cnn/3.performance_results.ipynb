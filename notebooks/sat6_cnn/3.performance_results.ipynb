{
 "cells": [
  {
   "cell_type": "code",
   "execution_count": 13,
   "id": "312c1eea-bf60-4ef5-9c9b-bc4ce26ca933",
   "metadata": {},
   "outputs": [],
   "source": [
    "from cnns_classes import t1_quantizedCNN, t2_quantizedCNN\n",
    "from utils import utils\n",
    "\n",
    "target_fps_list = [500,5000,50000]\n",
    "\n",
    "topologies = [\n",
    "    {\n",
    "        'id':1, \n",
    "        'tp_class':t1_quantizedCNN,\n",
    "        'quant': [2,4,8]\n",
    "    },\n",
    "    {\n",
    "        'id':2, \n",
    "        'tp_class':t2_quantizedCNN,\n",
    "        'quant': [2,4,8]\n",
    "    }\n",
    "]"
   ]
  },
  {
   "cell_type": "code",
   "execution_count": 14,
   "id": "549e0e91-41bb-470a-8793-768c3ee04240",
   "metadata": {},
   "outputs": [
    {
     "name": "stdout",
     "output_type": "stream",
     "text": [
      "['Hardware config', 'Stable throughput']\n"
     ]
    }
   ],
   "source": [
    "headers = ['Hardware config','Stable throughput']\n",
    "print(headers)"
   ]
  },
  {
   "cell_type": "code",
   "execution_count": 15,
   "id": "3179a31d-4b41-4e41-9f50-9850d84b9121",
   "metadata": {},
   "outputs": [
    {
     "name": "stdout",
     "output_type": "stream",
     "text": [
      "(FINN) Performance results\n",
      "Hardware config Stable throughput\n",
      "  t1w2_500fps_n            543.05\n",
      " t1w2_5000fps_n           6512.69\n",
      "t1w2_50000fps_n          16273.79\n",
      "  t1w4_500fps_n            543.05\n",
      " t1w4_5000fps_n           6512.27\n",
      "t1w4_50000fps_n          16271.15\n",
      "  t1w8_500fps_n            543.04\n",
      " t1w8_5000fps_n           6511.00\n",
      "t1w8_50000fps_n          16271.15\n",
      "  t2w2_500fps_n            678.81\n",
      " t2w2_5000fps_n           5428.42\n",
      "t2w2_50000fps_n          10852.14\n",
      "  t2w4_500fps_n            678.81\n",
      " t2w4_5000fps_n           5427.83\n",
      "t2w4_50000fps_n          10850.96\n",
      "  t2w8_500fps_n            678.79\n",
      " t2w8_5000fps_n           5426.95\n",
      "t2w8_50000fps_n          10847.43\n"
     ]
    }
   ],
   "source": [
    "import numpy as np\n",
    "import pandas as pd\n",
    "import json\n",
    "import os  \n",
    " \n",
    "performance_results = [headers]\n",
    "\n",
    "for tp in topologies:\n",
    "    for quant in tp['quant']:\n",
    "        for target_fps in target_fps_list:\n",
    "            hardware_config = f\"t{tp['id']}w{quant}_{target_fps}fps_n\"\n",
    "            data = [hardware_config]\n",
    "            filename = f\"/home/artti/Desktop/finn/notebooks/sat6_cnn/builds/build_{hardware_config}/report/rtlsim_performance.json\"\n",
    "            with open(filename) as my_file:\n",
    "                perfomance_data = json.load(my_file)\n",
    "                performance_results.append([\n",
    "                    hardware_config,\n",
    "                    \"{:.2f}\".format(perfomance_data[\"stable_throughput[images/s]\"]),\n",
    "                ]);\n",
    "\n",
    "df_performance = pd.DataFrame(performance_results)\n",
    "print(\"(FINN) Performance results\")\n",
    "print(df_performance.to_string(header=None, index=False))\n",
    "\n",
    "df_performance.to_csv('./results/performance_results.csv') "
   ]
  },
  {
   "cell_type": "code",
   "execution_count": 25,
   "id": "73db8796-0625-4e8e-863d-d87ad9be677c",
   "metadata": {},
   "outputs": [
    {
     "name": "stdout",
     "output_type": "stream",
     "text": [
      "(FINN) Performance results\n",
      "Hardware config Stable throughput\n",
      "    t1w2_500fps            542.38\n",
      "   t1w2_5000fps           6489.09\n",
      "  t1w2_50000fps          16159.66\n",
      "    t1w4_500fps            542.38\n",
      "   t1w4_5000fps           6488.78\n",
      "  t1w4_50000fps          16159.66\n",
      "    t1w8_500fps            542.37\n",
      "   t1w8_5000fps           6487.49\n",
      "  t1w8_50000fps          16158.16\n",
      "    t2w2_500fps            677.85\n",
      "   t2w2_5000fps           5408.68\n",
      "  t2w2_50000fps          10797.32\n",
      "    t2w4_500fps            677.85\n",
      "   t2w4_5000fps           5409.02\n",
      "  t2w4_50000fps          10794.62\n",
      "    t2w8_500fps            677.84\n",
      "   t2w8_5000fps           5398.49\n",
      "  t2w8_50000fps          10790.21\n"
     ]
    }
   ],
   "source": [
    "import numpy as np\n",
    "import pandas as pd\n",
    "import json\n",
    "import os  \n",
    " \n",
    "performance_results = [headers]\n",
    "\n",
    "for tp in topologies:\n",
    "    for quant in tp['quant']:\n",
    "        for target_fps in target_fps_list:\n",
    "            hardware_config = f\"t{tp['id']}w{quant}_{target_fps}fps\"\n",
    "            data = [hardware_config]\n",
    "            filename = f\"/home/artti/Desktop/finn/notebooks/sat6_cnn/pynq_results/runs/t{tp['id']}w{quant}/nw_metrics_{hardware_config}.txt\"\n",
    "            \n",
    "            with open(filename) as my_file:\n",
    "                perfomance_data = json.loads(my_file.read().replace(\"'\",\"\\\"\"))\n",
    "                performance_results.append([\n",
    "                    hardware_config,\n",
    "                    \"{:.2f}\".format(perfomance_data[\"throughput[images/s]\"]),\n",
    "                ]);\n",
    "\n",
    "df_performance = pd.DataFrame(performance_results)\n",
    "print(\"(FINN) Performance results\")\n",
    "print(df_performance.to_string(header=None, index=False))\n",
    "\n",
    "df_performance.to_csv('./results/performance_results.csv') "
   ]
  },
  {
   "cell_type": "code",
   "execution_count": null,
   "id": "0b471768-0ee4-412f-8935-82406f0acb28",
   "metadata": {},
   "outputs": [],
   "source": []
  }
 ],
 "metadata": {
  "kernelspec": {
   "display_name": "Python 3 (ipykernel)",
   "language": "python",
   "name": "python3"
  },
  "language_info": {
   "codemirror_mode": {
    "name": "ipython",
    "version": 3
   },
   "file_extension": ".py",
   "mimetype": "text/x-python",
   "name": "python",
   "nbconvert_exporter": "python",
   "pygments_lexer": "ipython3",
   "version": "3.10.12"
  }
 },
 "nbformat": 4,
 "nbformat_minor": 5
}

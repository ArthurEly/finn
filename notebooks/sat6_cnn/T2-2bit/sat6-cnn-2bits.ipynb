{
 "cells": [
  {
   "cell_type": "code",
   "execution_count": 1,
   "metadata": {},
   "outputs": [],
   "source": [
    "#https://www.kaggle.com/code/vmarkin/advatt\n",
    "# carregar as bibliotecas básicas necessárias\n",
    "import pandas as pd\n",
    "import numpy as np\n",
    "import matplotlib.pyplot as plt\n",
    "import torch.nn.functional as F\n",
    "\n",
    "# gerar os gráficos logo abaixo dos comandos de plot\n",
    "%matplotlib inline"
   ]
  },
  {
   "cell_type": "code",
   "execution_count": 2,
   "metadata": {},
   "outputs": [],
   "source": [
    "train_data_path = '../dataset/X_train_sat6.csv'\n",
    "train_label_path = '../dataset/y_train_sat6.csv'\n",
    "test_data_path = '../dataset/X_test_sat6.csv'\n",
    "test_label_path = '../dataset/y_test_sat6.csv'\n",
    "# train_qtdy = 1000\n",
    "# test_qtdy = 500     \n",
    "train_qtdy = 324000\n",
    "test_qtdy = 81000     "
   ]
  },
  {
   "cell_type": "code",
   "execution_count": 3,
   "metadata": {},
   "outputs": [],
   "source": [
    "def data_read(data_path, nrows):\n",
    "    data=pd.read_csv(data_path, header=None, nrows=nrows, dtype=np.uint8)\n",
    "    data=data.values ## converting the data into numpy array\n",
    "    return data"
   ]
  },
  {
   "cell_type": "code",
   "execution_count": 4,
   "metadata": {},
   "outputs": [
    {
     "name": "stdout",
     "output_type": "stream",
     "text": [
      "Train data shape:(324000, 3136)\n",
      "Train data label shape:(324000, 6)\n",
      "Test data shape:(81000, 3136)\n",
      "Test data label shape:(81000, 6)\n"
     ]
    }
   ],
   "source": [
    "train_data=data_read(train_data_path, nrows=train_qtdy)\n",
    "print(\"Train data shape:\" + str(train_data.shape))\n",
    "\n",
    "##Read training data labels\n",
    "train_data_label=data_read(train_label_path,nrows=train_qtdy)\n",
    "print(\"Train data label shape:\" + str(train_data_label.shape))\n",
    "\n",
    "##Read test data\n",
    "test_data=data_read(test_data_path, nrows=test_qtdy)\n",
    "print(\"Test data shape:\" + str(test_data.shape))\n",
    "\n",
    "##Read test data labels\n",
    "test_data_label=data_read(test_label_path,nrows=test_qtdy)\n",
    "print(\"Test data label shape:\" + str(test_data_label.shape))"
   ]
  },
  {
   "cell_type": "code",
   "execution_count": 5,
   "metadata": {},
   "outputs": [
    {
     "name": "stdout",
     "output_type": "stream",
     "text": [
      "(3136,)\n"
     ]
    }
   ],
   "source": [
    "example = train_data[0]\n",
    "print(example.shape)\n",
    "reshaped_ex = example.reshape((28,28,4))[:,:,:3] #convert to rgb \n",
    "\n",
    "ex = np.zeros((32, 32, 3),dtype=np.int32)\n",
    "ex[:28, :28, :] = reshaped_ex"
   ]
  },
  {
   "cell_type": "code",
   "execution_count": 6,
   "metadata": {},
   "outputs": [],
   "source": [
    "from matplotlib import pyplot as plt "
   ]
  },
  {
   "cell_type": "code",
   "execution_count": 7,
   "metadata": {},
   "outputs": [
    {
     "data": {
      "text/plain": [
       "<matplotlib.image.AxesImage at 0x7efe5b4bf2b0>"
      ]
     },
     "execution_count": 7,
     "metadata": {},
     "output_type": "execute_result"
    },
    {
     "data": {
      "image/png": "[encoded data removed]",
      "text/plain": [
       "<Figure size 640x480 with 1 Axes>"
      ]
     },
     "metadata": {},
     "output_type": "display_data"
    }
   ],
   "source": [
    "plt.imshow(ex)"
   ]
  },
  {
   "cell_type": "code",
   "execution_count": 8,
   "metadata": {},
   "outputs": [
    {
     "data": {
      "text/plain": [
       "array([0, 0, 1, 0, 0, 0], dtype=uint8)"
      ]
     },
     "execution_count": 8,
     "metadata": {},
     "output_type": "execute_result"
    }
   ],
   "source": [
    "ex_label = train_data_label[0]\n",
    "ex_label"
   ]
  },
  {
   "cell_type": "code",
   "execution_count": 9,
   "metadata": {},
   "outputs": [
    {
     "data": {
      "text/plain": [
       "<torch._C.Generator at 0x7efed28d6eb0>"
      ]
     },
     "execution_count": 9,
     "metadata": {},
     "output_type": "execute_result"
    }
   ],
   "source": [
    "import torch\n",
    "import torch.nn as nn\n",
    "from torch.utils.data import Dataset, DataLoader\n",
    "from torchvision import transforms as T\n",
    "from tqdm import tqdm\n",
    "from sklearn.metrics import accuracy_score\n",
    "\n",
    "torch.manual_seed(4)"
   ]
  },
  {
   "cell_type": "code",
   "execution_count": 10,
   "metadata": {},
   "outputs": [],
   "source": [
    "class SatImgDataset(Dataset):\n",
    "    def __init__(self, X, y):\n",
    "        self.X = X\n",
    "        self.y = y\n",
    "        self.transform = T.ToTensor()\n",
    "    def __len__(self):\n",
    "        return len(self.y)\n",
    "    \n",
    "    def __getitem__(self, index):\n",
    "        x = self.transform(self.X[index])\n",
    "        y = torch.FloatTensor(self.y[index])\n",
    "        return {'x':x, 'y':y}"
   ]
  },
  {
   "cell_type": "code",
   "execution_count": 11,
   "metadata": {},
   "outputs": [],
   "source": [
    "train_data_reshaped = train_data.reshape(train_qtdy,28,28,4)\n",
    "test_data_reshaped = test_data.reshape(test_qtdy,28,28,4) \n",
    "\n",
    "final_train_data = np.zeros((train_qtdy, 32, 32, 4),dtype=np.float32)\n",
    "final_train_data[:, :28, :28, :] = train_data_reshaped;\n",
    "\n",
    "final_test_data = np.zeros((test_qtdy, 32, 32, 4),dtype=np.float32)\n",
    "final_test_data[:, :28, :28, :] = test_data_reshaped;"
   ]
  },
  {
   "cell_type": "code",
   "execution_count": 12,
   "metadata": {},
   "outputs": [],
   "source": [
    "dataset_train = SatImgDataset(final_train_data, train_data_label)\n",
    "dataset_test = SatImgDataset(final_test_data, test_data_label)\n",
    "\n",
    "loader_train = DataLoader(dataset_train, 512, shuffle=True)\n",
    "loader_test = DataLoader(dataset_test, 512, shuffle=False)"
   ]
  },
  {
   "cell_type": "code",
   "execution_count": 13,
   "metadata": {},
   "outputs": [],
   "source": [
    "# Copyright (C) 2023, Advanced Micro Devices, Inc. All rights reserved.\n",
    "# SPDX-License-Identifier: BSD-3-Clause\n",
    "\n",
    "from dependencies import value\n",
    "\n",
    "from brevitas.core.bit_width import BitWidthImplType\n",
    "from brevitas.core.quant import QuantType\n",
    "from brevitas.core.restrict_val import FloatToIntImplType\n",
    "from brevitas.core.restrict_val import RestrictValueType\n",
    "from brevitas.core.scaling import ScalingImplType\n",
    "from brevitas.core.zero_point import ZeroZeroPoint\n",
    "from brevitas.inject import ExtendedInjector\n",
    "from brevitas.quant.solver import ActQuantSolver\n",
    "from brevitas.quant.solver import WeightQuantSolver\n",
    "from brevitas.quant import Uint8ActPerTensorFloat\n",
    "\n",
    "class CommonQuant(ExtendedInjector):\n",
    "    bit_width_impl_type = BitWidthImplType.CONST\n",
    "    scaling_impl_type = ScalingImplType.CONST\n",
    "    restrict_scaling_type = RestrictValueType.FP\n",
    "    zero_point_impl = ZeroZeroPoint\n",
    "    float_to_int_impl_type = FloatToIntImplType.ROUND\n",
    "    scaling_per_output_channel = False\n",
    "    narrow_range = True\n",
    "    signed = True\n",
    "\n",
    "    @value\n",
    "    def quant_type(bit_width):\n",
    "        if bit_width is None:\n",
    "            return QuantType.FP\n",
    "        elif bit_width == 1:\n",
    "            return QuantType.BINARY\n",
    "        else:\n",
    "            return QuantType.INT\n",
    "\n",
    "\n",
    "class CommonWeightQuant(CommonQuant, WeightQuantSolver):\n",
    "    scaling_const = 1.0\n",
    "\n",
    "\n",
    "class CommonUintActQuant(Uint8ActPerTensorFloat):\n",
    "    \"\"\"\n",
    "    Common unsigned act quantizer with bit-width set to None so that it's forced to be specified by\n",
    "    each layer.\n",
    "    \"\"\"\n",
    "    scaling_min_val = 2e-16\n",
    "    bit_width = None\n",
    "    restrict_scaling_type = RestrictValueType.LOG_FP"
   ]
  },
  {
   "cell_type": "code",
   "execution_count": 14,
   "metadata": {},
   "outputs": [],
   "source": [
    "import torch\n",
    "import torch.nn as nn\n",
    "import torch.nn.functional as F\n",
    "import brevitas.nn as qnn\n",
    "from brevitas.quant.scaled_int import Int8ActPerTensorFloat\n",
    "\n",
    "bit_quantization = 2\n",
    "\n",
    "class QuantizedCNN(nn.Module):\n",
    "    def __init__(self):\n",
    "        super(QuantizedCNN, self).__init__()\n",
    "        self.conv1 = qnn.QuantConv2d(\n",
    "            4, \n",
    "            16, \n",
    "            kernel_size=3, stride=2, padding=1, \n",
    "            bias = False,\n",
    "            weight_bit_width=bit_quantization, \n",
    "            weight_quant=CommonWeightQuant, \n",
    "        )\n",
    "        self.relu1 = qnn.QuantReLU(\n",
    "            act_quant=CommonUintActQuant,\n",
    "            bit_width=bit_quantization,\n",
    "            return_quant_tensor=True\n",
    "        )\n",
    "        \n",
    "        self.conv2 = qnn.QuantConv2d(\n",
    "            16, \n",
    "            8, \n",
    "            kernel_size=3, stride=2, padding=1, \n",
    "            bias = False,\n",
    "            weight_bit_width=bit_quantization, \n",
    "            weight_quant=CommonWeightQuant, \n",
    "        )\n",
    "        self.relu2 = qnn.QuantReLU(\n",
    "            act_quant=CommonUintActQuant,\n",
    "            bit_width=bit_quantization,\n",
    "            return_quant_tensor=True\n",
    "        )\n",
    "        \n",
    "        self.conv3 = qnn.QuantConv2d(\n",
    "            8, \n",
    "            16, \n",
    "            kernel_size=3, stride=2, padding=1, \n",
    "            bias = False,\n",
    "            weight_bit_width=bit_quantization, \n",
    "            weight_quant=CommonWeightQuant, \n",
    "        )\n",
    "        self.relu3 = qnn.QuantReLU(\n",
    "            act_quant=CommonUintActQuant,\n",
    "            bit_width=bit_quantization,\n",
    "            return_quant_tensor=True\n",
    "        )\n",
    "        \n",
    "        self.conv4 = qnn.QuantConv2d(\n",
    "            16, \n",
    "            8, \n",
    "            kernel_size=3, stride=2, padding=1, \n",
    "            bias = False,\n",
    "            weight_bit_width=bit_quantization, \n",
    "            weight_quant=CommonWeightQuant, \n",
    "        )\n",
    "        self.relu4 = qnn.QuantReLU(\n",
    "            act_quant=CommonUintActQuant,\n",
    "            bit_width=bit_quantization,\n",
    "            return_quant_tensor=True\n",
    "        )\n",
    "        \n",
    "        self.fc1 = qnn.QuantLinear(\n",
    "            8*2*2, \n",
    "            6, \n",
    "            bias = False,\n",
    "            weight_bit_width=bit_quantization, \n",
    "            weight_quant=CommonWeightQuant, \n",
    "        )\n",
    "\n",
    "        for m in self.modules():\n",
    "            if isinstance(m, qnn.QuantConv2d) or isinstance(m, qnn.QuantLinear):\n",
    "                torch.nn.init.uniform_(m.weight.data, -1, 1)\n",
    "                if m.bias is not None:\n",
    "                    nn.init.zeros_(m.bias.data)\n",
    "\n",
    "    def forward(self, x):\n",
    "        x = 2.0 * x - torch.tensor([1.0], device=x.device)\n",
    "        x = self.conv1(x)\n",
    "        x = self.relu1(x)\n",
    "\n",
    "        x = self.conv2(x)\n",
    "        x = self.relu2(x)\n",
    "\n",
    "        x = self.conv3(x)\n",
    "        x = self.relu3(x)\n",
    "\n",
    "        x = self.conv4(x)\n",
    "        x = self.relu4(x)\n",
    "\n",
    "        x = x.view(x.size(0), -1)\n",
    "        \n",
    "        x = self.fc1(x)      \n",
    "        return x"
   ]
  },
  {
   "cell_type": "code",
   "execution_count": 21,
   "metadata": {},
   "outputs": [
    {
     "name": "stdout",
     "output_type": "stream",
     "text": [
      "epoch (0)\n"
     ]
    },
    {
     "name": "stderr",
     "output_type": "stream",
     "text": [
      "100%|█████████████████████████████████████████| 633/633 [00:50<00:00, 12.46it/s]\n",
      "100%|█████████████████████████████████████████| 633/633 [00:36<00:00, 17.33it/s]\n",
      "100%|█████████████████████████████████████████| 633/633 [00:39<00:00, 15.99it/s]\n",
      "100%|█████████████████████████████████████████| 633/633 [00:38<00:00, 16.56it/s]\n",
      "100%|█████████████████████████████████████████| 633/633 [00:35<00:00, 17.65it/s]\n"
     ]
    },
    {
     "name": "stdout",
     "output_type": "stream",
     "text": [
      "epoch (5)\n"
     ]
    },
    {
     "name": "stderr",
     "output_type": "stream",
     "text": [
      "100%|█████████████████████████████████████████| 633/633 [00:39<00:00, 16.12it/s]\n",
      "100%|█████████████████████████████████████████| 633/633 [00:33<00:00, 18.92it/s]\n",
      "100%|█████████████████████████████████████████| 633/633 [00:34<00:00, 18.35it/s]\n",
      "100%|█████████████████████████████████████████| 633/633 [00:33<00:00, 18.80it/s]\n",
      "100%|█████████████████████████████████████████| 633/633 [00:33<00:00, 18.78it/s]\n"
     ]
    },
    {
     "name": "stdout",
     "output_type": "stream",
     "text": [
      "epoch (10)\n"
     ]
    },
    {
     "name": "stderr",
     "output_type": "stream",
     "text": [
      "100%|█████████████████████████████████████████| 633/633 [00:33<00:00, 18.87it/s]\n",
      "100%|█████████████████████████████████████████| 633/633 [00:33<00:00, 18.86it/s]\n",
      "100%|█████████████████████████████████████████| 633/633 [00:33<00:00, 18.68it/s]\n",
      "100%|█████████████████████████████████████████| 633/633 [00:33<00:00, 18.98it/s]\n",
      "100%|█████████████████████████████████████████| 633/633 [00:34<00:00, 18.59it/s]\n"
     ]
    },
    {
     "name": "stdout",
     "output_type": "stream",
     "text": [
      "epoch (15)\n"
     ]
    },
    {
     "name": "stderr",
     "output_type": "stream",
     "text": [
      "100%|█████████████████████████████████████████| 633/633 [00:33<00:00, 18.85it/s]\n",
      "100%|█████████████████████████████████████████| 633/633 [00:33<00:00, 18.71it/s]\n",
      "100%|█████████████████████████████████████████| 633/633 [00:33<00:00, 18.83it/s]\n",
      "100%|█████████████████████████████████████████| 633/633 [00:33<00:00, 18.76it/s]\n",
      "100%|█████████████████████████████████████████| 633/633 [00:33<00:00, 18.82it/s]\n"
     ]
    },
    {
     "name": "stdout",
     "output_type": "stream",
     "text": [
      "epoch (20)\n"
     ]
    },
    {
     "name": "stderr",
     "output_type": "stream",
     "text": [
      "100%|█████████████████████████████████████████| 633/633 [00:35<00:00, 18.05it/s]\n",
      "100%|█████████████████████████████████████████| 633/633 [00:33<00:00, 18.75it/s]\n",
      "100%|█████████████████████████████████████████| 633/633 [00:33<00:00, 18.70it/s]\n",
      "100%|█████████████████████████████████████████| 633/633 [00:33<00:00, 18.81it/s]\n",
      "100%|█████████████████████████████████████████| 633/633 [00:33<00:00, 18.70it/s]\n"
     ]
    },
    {
     "name": "stdout",
     "output_type": "stream",
     "text": [
      "epoch (25)\n"
     ]
    },
    {
     "name": "stderr",
     "output_type": "stream",
     "text": [
      "100%|█████████████████████████████████████████| 633/633 [00:33<00:00, 18.80it/s]\n",
      "100%|█████████████████████████████████████████| 633/633 [00:34<00:00, 18.48it/s]\n",
      "100%|█████████████████████████████████████████| 633/633 [00:33<00:00, 18.84it/s]\n",
      "100%|█████████████████████████████████████████| 633/633 [00:34<00:00, 18.48it/s]\n",
      "100%|█████████████████████████████████████████| 633/633 [00:33<00:00, 18.62it/s]"
     ]
    },
    {
     "name": "stdout",
     "output_type": "stream",
     "text": [
      "CPU times: user 1h 37min 1s, sys: 9.23 s, total: 1h 37min 10s\n",
      "Wall time: 17min 32s\n"
     ]
    },
    {
     "name": "stderr",
     "output_type": "stream",
     "text": [
      "\n"
     ]
    }
   ],
   "source": [
    "%%time\n",
    "model = QuantizedCNN()\n",
    "device = torch.device('cpu')\n",
    "optimizer = torch.optim.Adam(model.parameters(), lr=3e-4)\n",
    "epochs = 30\n",
    "criterion = nn.CrossEntropyLoss()\n",
    "model.train()\n",
    "i=0\n",
    "for e in range(epochs):\n",
    "    if i % 5 == 0:\n",
    "        print(f\"epoch ({i})\") \n",
    "    for batch in tqdm(loader_train):\n",
    "        pred = model(batch['x'].to(device))\n",
    "        loss = criterion(pred, batch['y'].to(device))\n",
    "        optimizer.zero_grad()\n",
    "        loss.backward()\n",
    "        optimizer.step()\n",
    "    i+=1"
   ]
  },
  {
   "cell_type": "code",
   "execution_count": 22,
   "metadata": {},
   "outputs": [],
   "source": [
    "def predict_one_image(model, img_data, y):\n",
    "    with torch.no_grad():\n",
    "        pred = model(T.ToTensor()(img_data).unsqueeze(0).to(device))\n",
    "    true_label = y.argmax()\n",
    "    pred_label = pred[0].argmax()\n",
    "    print(pred)\n",
    "    plt.imshow(img_data.astype(int))\n",
    "    print(\"True class: {}, predicted class: {}\".format(true_label, pred_label))"
   ]
  },
  {
   "cell_type": "code",
   "execution_count": 23,
   "metadata": {},
   "outputs": [
    {
     "name": "stdout",
     "output_type": "stream",
     "text": [
      "tensor([[-22771.2070, -22771.2070,  45542.4141,      0.0000, -22771.2070,\n",
      "         -45542.4141]])\n",
      "True class: 2, predicted class: 2\n"
     ]
    },
    {
     "data": {
      "image/png": "[encoded data removed]",
      "text/plain": [
       "<Figure size 640x480 with 1 Axes>"
      ]
     },
     "metadata": {},
     "output_type": "display_data"
    }
   ],
   "source": [
    "attack_params = {'epsilon':0.02}\n",
    "\n",
    "image_index = 0\n",
    "\n",
    "img_data = test_data[image_index].reshape((28,28,4))\n",
    "\n",
    "ex_img = np.zeros((32, 32, 4),dtype=np.float32)\n",
    "ex_img[:28, :28, :] = img_data\n",
    "\n",
    "labels = torch.FloatTensor(test_data_label[image_index]).unsqueeze(0)\n",
    "predict_one_image(model, ex_img, labels)"
   ]
  },
  {
   "cell_type": "code",
   "execution_count": 24,
   "metadata": {},
   "outputs": [
    {
     "name": "stdout",
     "output_type": "stream",
     "text": [
      "tensor([2, 2, 5, 0, 5, 2, 5, 1, 5, 5, 5, 0, 0, 5, 2, 0, 0, 5, 0, 0, 0, 0, 1, 5,\n",
      "        1, 0, 5, 1, 0, 1, 5, 5, 5, 5, 0, 1, 5, 0, 0, 0, 2, 5, 2, 0, 2, 5, 0, 2,\n",
      "        5, 1, 2, 1, 2, 0, 2, 0, 2, 0, 5, 5, 1, 5, 0, 5, 0, 2, 1, 1, 5, 5, 2, 0,\n",
      "        5, 5, 0, 0, 5, 5, 0, 5, 5, 2, 5, 0, 0, 0, 2, 5, 0, 0, 2, 0, 0, 2, 2, 2,\n",
      "        1, 0, 0, 0, 5, 5, 0, 5, 1, 0, 0, 0, 5, 0, 5, 1, 1, 5, 0, 0, 5, 1, 1, 2,\n",
      "        0, 5, 0, 0, 5, 5, 2, 1, 2, 5, 2, 0, 5, 0, 0, 0, 2, 5, 5, 2, 0, 1, 0, 2,\n",
      "        5, 2, 0, 2, 2, 1, 1, 5, 0, 0, 1, 1, 2, 0, 2, 5, 5, 1, 5, 5, 0, 5, 1, 2,\n",
      "        5, 0, 5, 0, 2, 2, 1, 5, 5, 1, 5, 0, 5, 1, 0, 5, 2, 1, 0, 0, 5, 5, 5, 2,\n",
      "        5, 0, 2, 2, 0, 1, 1, 5, 1, 0, 0, 2, 1, 0, 5, 2, 0, 5, 5, 0, 1, 1, 1, 0,\n",
      "        0, 5, 5, 0, 0, 2, 2, 0, 2, 1, 0, 1, 0, 2, 5, 2, 0, 0, 2, 5, 0, 0, 0, 0,\n",
      "        5, 0, 5, 1, 5, 1, 5, 2, 0, 1, 5, 5, 5, 2, 2, 0, 5, 5, 5, 5, 5, 0, 5, 4,\n",
      "        5, 5, 0, 0, 2, 2, 2, 5, 5, 2, 1, 5, 2, 5, 1, 1, 2, 5, 5, 0, 2, 0, 0, 5,\n",
      "        2, 0, 2, 0, 1, 5, 0, 5, 0, 0, 5, 5, 2, 0, 1, 5, 5, 2, 5, 0, 0, 0, 5, 5,\n",
      "        1, 5, 0, 0, 5, 1, 1, 5, 2, 0, 0, 1, 2, 0, 5, 2, 5, 2, 0, 5, 5, 0, 5, 0,\n",
      "        0, 5, 5, 0, 0, 0, 0, 0, 0, 5, 0, 5, 5, 2, 5, 2, 5, 5, 5, 5, 2, 2, 2, 0,\n",
      "        0, 0, 1, 2, 2, 0, 2, 5, 5, 1, 5, 5, 5, 2, 5, 2, 5, 1, 2, 5, 0, 1, 2, 5,\n",
      "        5, 5, 0, 0, 1, 5, 5, 5, 2, 0, 0, 0, 5, 1, 5, 5, 0, 1, 0, 0, 0, 5, 5, 5,\n",
      "        1, 5, 5, 5, 5, 1, 2, 1, 0, 1, 5, 1, 5, 5, 5, 5, 1, 0, 5, 5, 5, 0, 0, 5,\n",
      "        1, 5, 5, 5, 5, 2, 5, 5, 5, 0, 0, 5, 5, 5, 5, 2, 2, 2, 0, 0, 2, 5, 0, 0,\n",
      "        1, 5, 5, 1, 2, 0, 0, 2, 5, 2, 1, 2, 5, 0, 0, 0, 5, 2, 0, 5, 2, 0, 5, 0,\n",
      "        0, 5, 0, 2, 5, 0, 0, 0, 0, 5, 1, 2, 0, 2, 0, 0, 0, 1, 5, 2, 0, 5, 1, 1,\n",
      "        0, 5, 5, 0, 0, 0, 5, 5])\n",
      "tensor([2, 2, 5, 1, 5, 2, 5, 1, 5, 5, 5, 2, 2, 5, 2, 3, 1, 5, 0, 0, 3, 3, 1, 5,\n",
      "        1, 0, 5, 1, 3, 1, 5, 5, 5, 5, 0, 1, 5, 1, 3, 2, 2, 5, 2, 3, 2, 5, 4, 2,\n",
      "        5, 1, 2, 1, 2, 3, 2, 2, 2, 3, 5, 5, 1, 5, 3, 5, 4, 2, 1, 1, 5, 5, 2, 3,\n",
      "        5, 5, 1, 1, 5, 5, 3, 5, 5, 2, 5, 1, 1, 3, 2, 5, 3, 2, 2, 1, 1, 2, 2, 2,\n",
      "        1, 1, 4, 3, 5, 5, 0, 5, 1, 3, 0, 1, 5, 3, 5, 1, 1, 5, 3, 1, 5, 1, 1, 2,\n",
      "        3, 5, 3, 1, 5, 5, 2, 1, 2, 5, 2, 3, 5, 2, 3, 1, 2, 5, 5, 2, 3, 1, 1, 2,\n",
      "        5, 2, 2, 2, 2, 1, 1, 5, 4, 1, 1, 1, 2, 1, 2, 5, 5, 1, 5, 5, 3, 5, 1, 2,\n",
      "        5, 3, 5, 0, 2, 2, 1, 5, 5, 1, 5, 1, 5, 1, 1, 5, 2, 1, 3, 0, 5, 5, 5, 2,\n",
      "        5, 3, 2, 2, 3, 1, 1, 5, 3, 3, 1, 2, 1, 1, 5, 3, 1, 5, 5, 1, 1, 1, 1, 3,\n",
      "        3, 5, 5, 1, 3, 2, 2, 1, 2, 3, 1, 1, 3, 2, 5, 2, 1, 3, 2, 5, 1, 3, 3, 3,\n",
      "        5, 0, 5, 1, 5, 1, 5, 2, 1, 1, 5, 5, 5, 2, 2, 1, 5, 5, 5, 5, 5, 3, 5, 5,\n",
      "        5, 5, 3, 3, 2, 2, 2, 5, 5, 2, 1, 5, 2, 5, 1, 1, 2, 5, 5, 1, 2, 3, 4, 5,\n",
      "        3, 3, 3, 3, 1, 5, 1, 5, 1, 0, 5, 5, 2, 1, 1, 5, 5, 2, 5, 1, 3, 2, 5, 5,\n",
      "        1, 5, 3, 4, 5, 1, 1, 5, 2, 3, 3, 1, 2, 4, 5, 2, 5, 2, 4, 4, 5, 1, 5, 3,\n",
      "        1, 5, 5, 3, 1, 1, 0, 1, 4, 5, 3, 5, 5, 2, 5, 2, 5, 5, 5, 5, 2, 2, 2, 3,\n",
      "        3, 1, 1, 2, 2, 0, 2, 5, 5, 1, 5, 5, 5, 2, 5, 2, 5, 1, 2, 5, 3, 1, 2, 5,\n",
      "        5, 5, 1, 0, 1, 5, 5, 5, 2, 5, 3, 3, 5, 1, 5, 5, 0, 1, 4, 0, 3, 5, 5, 5,\n",
      "        1, 5, 5, 5, 5, 3, 2, 1, 1, 1, 5, 3, 5, 5, 5, 5, 1, 1, 5, 5, 5, 0, 3, 5,\n",
      "        3, 5, 5, 5, 5, 2, 5, 5, 5, 3, 1, 5, 5, 5, 5, 2, 2, 2, 5, 3, 2, 5, 3, 0,\n",
      "        1, 5, 5, 1, 2, 3, 1, 2, 5, 2, 1, 2, 5, 1, 4, 3, 5, 2, 0, 5, 2, 3, 5, 1,\n",
      "        3, 5, 1, 2, 5, 1, 0, 4, 1, 5, 1, 2, 3, 2, 2, 1, 3, 1, 5, 2, 1, 5, 1, 1,\n",
      "        1, 5, 5, 3, 3, 3, 5, 5])\n",
      "tensor([0, 5, 5, 0, 0, 0, 2, 0, 2, 0, 0, 5, 0, 5, 5, 0, 5, 2, 1, 2, 1, 1, 1, 5,\n",
      "        2, 2, 2, 2, 0, 5, 5, 1, 2, 0, 2, 5, 5, 5, 1, 2, 5, 2, 0, 1, 0, 5, 5, 5,\n",
      "        5, 0, 5, 5, 2, 5, 2, 2, 0, 1, 2, 0, 5, 0, 5, 1, 5, 5, 2, 5, 1, 2, 2, 5,\n",
      "        5, 1, 0, 1, 0, 0, 2, 0, 0, 0, 0, 2, 5, 2, 5, 5, 1, 5, 0, 5, 1, 5, 2, 0,\n",
      "        5, 2, 0, 2, 1, 1, 0, 0, 5, 5, 5, 0, 2, 5, 0, 0, 2, 5, 5, 5, 5, 2, 5, 5,\n",
      "        0, 0, 5, 5, 1, 5, 5, 0, 0, 5, 2, 0, 5, 2, 0, 2, 1, 0, 0, 5, 0, 0, 5, 5,\n",
      "        1, 1, 2, 5, 2, 0, 0, 0, 1, 0, 2, 5, 2, 5, 0, 0, 5, 5, 0, 0, 0, 5, 5, 5,\n",
      "        1, 5, 5, 1, 5, 1, 1, 0, 5, 5, 0, 0, 2, 5, 2, 5, 0, 5, 2, 5, 1, 0, 5, 5,\n",
      "        5, 1, 1, 5, 0, 0, 2, 1, 5, 5, 0, 5, 1, 5, 1, 1, 0, 0, 5, 0, 2, 2, 5, 0,\n",
      "        0, 2, 1, 5, 0, 5, 5, 5, 0, 5, 1, 5, 5, 5, 5, 2, 5, 5, 5, 5, 5, 1, 1, 0,\n",
      "        0, 0, 5, 5, 0, 1, 0, 1, 5, 5, 2, 2, 0, 5, 1, 5, 2, 2, 5, 2, 1, 0, 1, 1,\n",
      "        5, 2, 2, 0, 5, 5, 0, 2, 5, 2, 0, 0, 5, 2, 5, 0, 0, 0, 5, 0, 0, 5, 0, 0,\n",
      "        5, 5, 0, 0, 5, 5, 2, 2, 5, 5, 5, 5, 1, 1, 5, 0, 5, 0, 5, 5, 0, 5, 1, 0,\n",
      "        0, 1, 0, 5, 0, 0, 5, 0, 2, 1, 0, 0, 0, 1, 0, 1, 2, 0, 0, 2, 2, 5, 2, 1,\n",
      "        0, 5, 0, 5, 2, 5, 5, 5, 5, 0, 5, 5, 1, 5, 5, 1, 0, 5, 5, 0, 2, 0, 2, 1,\n",
      "        5, 5, 0, 0, 5, 5, 5, 0, 5, 5, 0, 1, 0, 0, 0, 1, 1, 2, 0, 2, 1, 0, 0, 1,\n",
      "        2, 2, 5, 0, 0, 5, 1, 5, 0, 0, 0, 5, 0, 5, 1, 5, 5, 5, 5, 0, 0, 1, 0, 1,\n",
      "        5, 0, 5, 2, 5, 5, 1, 0, 1, 0, 2, 0, 0, 5, 5, 2, 2, 0, 5, 1, 5, 2, 5, 2,\n",
      "        2, 2, 5, 0, 5, 5, 0, 1, 5, 5, 2, 0, 0, 5, 5, 0, 2, 0, 5, 0, 5, 0, 5, 1,\n",
      "        0, 0, 2, 1, 2, 5, 0, 2, 5, 0, 5, 5, 0, 0, 0, 5, 5, 0, 0, 5, 2, 1, 0, 1,\n",
      "        1, 5, 1, 5, 5, 0, 5, 2, 2, 0, 0, 2, 5, 0, 5, 5, 2, 0, 5, 5, 5, 0, 5, 2,\n",
      "        5, 0, 5, 2, 5, 5, 2, 0])\n",
      "tensor([3, 5, 5, 4, 4, 0, 2, 3, 2, 0, 3, 5, 3, 5, 5, 3, 5, 2, 1, 2, 1, 1, 1, 5,\n",
      "        2, 2, 2, 2, 0, 5, 5, 1, 2, 3, 2, 5, 5, 5, 1, 2, 5, 2, 3, 1, 1, 5, 5, 5,\n",
      "        5, 3, 5, 5, 2, 5, 2, 2, 1, 1, 2, 3, 5, 4, 5, 1, 5, 5, 2, 5, 1, 2, 2, 5,\n",
      "        5, 1, 0, 1, 4, 1, 2, 2, 3, 1, 3, 2, 5, 2, 5, 5, 1, 5, 0, 5, 1, 5, 2, 3,\n",
      "        5, 2, 1, 2, 1, 1, 0, 3, 5, 5, 5, 3, 2, 5, 1, 1, 2, 5, 5, 5, 5, 2, 5, 5,\n",
      "        3, 1, 5, 5, 1, 5, 5, 0, 3, 5, 2, 0, 5, 2, 1, 2, 1, 1, 1, 5, 3, 3, 5, 5,\n",
      "        1, 1, 2, 5, 2, 0, 0, 3, 1, 3, 2, 5, 2, 5, 1, 3, 5, 5, 1, 0, 3, 5, 5, 5,\n",
      "        1, 5, 5, 1, 5, 1, 1, 1, 5, 5, 3, 3, 2, 5, 2, 5, 2, 5, 2, 5, 1, 1, 5, 5,\n",
      "        5, 1, 1, 5, 3, 1, 2, 1, 5, 5, 1, 5, 1, 5, 3, 1, 3, 3, 5, 3, 2, 2, 5, 3,\n",
      "        5, 2, 1, 5, 0, 5, 5, 5, 1, 5, 1, 5, 5, 5, 5, 2, 5, 5, 5, 5, 5, 1, 1, 3,\n",
      "        1, 3, 5, 5, 1, 1, 3, 1, 5, 5, 2, 2, 4, 5, 1, 5, 2, 2, 5, 2, 1, 3, 1, 1,\n",
      "        5, 2, 2, 3, 5, 5, 1, 2, 5, 3, 1, 3, 5, 2, 5, 1, 1, 1, 5, 0, 3, 5, 3, 1,\n",
      "        5, 5, 3, 3, 5, 5, 2, 2, 5, 5, 5, 5, 1, 1, 5, 2, 5, 0, 5, 5, 0, 5, 1, 1,\n",
      "        4, 1, 1, 5, 3, 4, 5, 1, 2, 1, 3, 0, 3, 1, 4, 1, 2, 5, 3, 2, 2, 5, 2, 1,\n",
      "        3, 5, 1, 5, 2, 5, 5, 5, 5, 4, 5, 5, 1, 5, 5, 1, 1, 5, 5, 3, 2, 3, 2, 1,\n",
      "        5, 5, 3, 3, 5, 5, 5, 0, 5, 5, 0, 1, 3, 3, 4, 1, 1, 2, 2, 2, 1, 3, 0, 1,\n",
      "        2, 2, 5, 0, 1, 5, 1, 5, 1, 3, 3, 5, 0, 5, 1, 5, 5, 5, 5, 3, 3, 1, 3, 1,\n",
      "        5, 1, 5, 2, 5, 5, 1, 4, 1, 1, 2, 3, 1, 5, 5, 2, 2, 3, 5, 1, 5, 2, 5, 2,\n",
      "        2, 2, 5, 3, 5, 5, 3, 1, 5, 5, 2, 3, 0, 5, 5, 2, 2, 3, 5, 1, 5, 3, 5, 1,\n",
      "        1, 3, 2, 1, 2, 5, 1, 2, 5, 3, 5, 5, 1, 3, 1, 5, 5, 1, 3, 5, 2, 1, 4, 1,\n",
      "        1, 5, 1, 5, 5, 1, 5, 2, 2, 1, 3, 2, 5, 3, 5, 5, 2, 1, 5, 5, 5, 0, 5, 2,\n",
      "        5, 3, 5, 2, 5, 5, 2, 1])\n",
      "certos: 55503!!!\n",
      "precisão: 68.52222222222221%!!!\n"
     ]
    }
   ],
   "source": [
    "with torch.no_grad():\n",
    "    correct = 0\n",
    "    i=0\n",
    "    for batch in loader_test:\n",
    "        pred = model(batch['x'].to(device))\n",
    "        predicted = torch.max(pred, 1)[1]\n",
    "        real_class = torch.max(batch['y'].to(device), 1)[1]\n",
    "        correct += (predicted == real_class).sum()\n",
    "        if (i % 100 == 0):\n",
    "            print(predicted)\n",
    "            print(real_class)\n",
    "        i += 1\n",
    "\n",
    "print(f\"certos: {correct.item()}!!!\")\n",
    "print(f\"precisão: {correct.item()/len(dataset_test)*100}%!!!\")\n"
   ]
  },
  {
   "cell_type": "code",
   "execution_count": 25,
   "metadata": {},
   "outputs": [],
   "source": [
    "#salvar e carregar o modelo de NN\n",
    "torch.save(model.state_dict(), \"cnn-sat6-w2.pt\")"
   ]
  },
  {
   "cell_type": "code",
   "execution_count": 26,
   "metadata": {},
   "outputs": [
    {
     "name": "stdout",
     "output_type": "stream",
     "text": [
      "tensor([[-22771.2070, -22771.2070,  45542.4141,      0.0000, -22771.2070,\n",
      "         -45542.4141]])\n",
      "True class: 2, predicted class: 2\n"
     ]
    },
    {
     "data": {
      "image/png": "[encoded data removed]",
      "text/plain": [
       "<Figure size 640x480 with 1 Axes>"
      ]
     },
     "metadata": {},
     "output_type": "display_data"
    }
   ],
   "source": [
    "new_model = QuantizedCNN()\n",
    "new_model.load_state_dict(torch.load(\"cnn-sat6-w2.pt\"))\n",
    "predict_one_image(new_model, ex_img, labels)"
   ]
  },
  {
   "cell_type": "code",
   "execution_count": null,
   "metadata": {},
   "outputs": [],
   "source": []
  }
 ],
 "metadata": {
  "kernelspec": {
   "display_name": "Python 3 (ipykernel)",
   "language": "python",
   "name": "python3"
  },
  "language_info": {
   "codemirror_mode": {
    "name": "ipython",
    "version": 3
   },
   "file_extension": ".py",
   "mimetype": "text/x-python",
   "name": "python",
   "nbconvert_exporter": "python",
   "pygments_lexer": "ipython3",
   "version": "3.10.12"
  }
 },
 "nbformat": 4,
 "nbformat_minor": 4
}

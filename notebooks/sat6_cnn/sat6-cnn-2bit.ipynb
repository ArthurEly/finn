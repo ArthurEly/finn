{
 "cells": [
  {
   "cell_type": "code",
   "execution_count": 1,
   "metadata": {},
   "outputs": [
    {
     "name": "stdout",
     "output_type": "stream",
     "text": [
      "oiii\n"
     ]
    }
   ],
   "source": [
    "print(\"oiii\")"
   ]
  },
  {
   "cell_type": "code",
   "execution_count": 2,
   "metadata": {},
   "outputs": [],
   "source": [
    "#https://www.kaggle.com/code/vmarkin/advatt\n",
    "# carregar as bibliotecas básicas necessárias\n",
    "import pandas as pd\n",
    "import numpy as np\n",
    "import matplotlib.pyplot as plt\n",
    "import torch.nn.functional as F\n",
    "\n",
    "# gerar os gráficos logo abaixo dos comandos de plot\n",
    "%matplotlib inline"
   ]
  },
  {
   "cell_type": "code",
   "execution_count": 3,
   "metadata": {},
   "outputs": [],
   "source": [
    "train_data_path = 'dataset/X_train_sat6.csv'\n",
    "train_label_path = 'dataset/y_train_sat6.csv'\n",
    "test_data_path = 'dataset/X_test_sat6.csv'\n",
    "test_label_path = 'dataset/y_test_sat6.csv'\n",
    "train_qtdy = 10000\n",
    "test_qtdy = 5000     "
   ]
  },
  {
   "cell_type": "code",
   "execution_count": 4,
   "metadata": {},
   "outputs": [],
   "source": [
    "def data_read(data_path, nrows):\n",
    "    data=pd.read_csv(data_path, header=None, nrows=nrows, dtype=np.uint8)\n",
    "    data=data.values ## converting the data into numpy array\n",
    "    return data"
   ]
  },
  {
   "cell_type": "code",
   "execution_count": 5,
   "metadata": {},
   "outputs": [
    {
     "name": "stdout",
     "output_type": "stream",
     "text": [
      "Train data shape:(10000, 3136)\n",
      "Train data label shape:(10000, 6)\n",
      "\n",
      "Test data shape:(5000, 3136)\n",
      "Test data label shape:(5000, 6)\n"
     ]
    }
   ],
   "source": [
    "train_data=data_read(train_data_path, nrows=train_qtdy)\n",
    "print(\"Train data shape:\" + str(train_data.shape))\n",
    "\n",
    "##Read training data labels\n",
    "train_data_label=data_read(train_label_path,nrows=train_qtdy)\n",
    "print(\"Train data label shape:\" + str(train_data_label.shape))\n",
    "print()\n",
    "\n",
    "##Read test data\n",
    "test_data=data_read(test_data_path, nrows=test_qtdy)\n",
    "print(\"Test data shape:\" + str(test_data.shape))\n",
    "\n",
    "\n",
    "##Read test data labels\n",
    "test_data_label=data_read(test_label_path,nrows=test_qtdy)\n",
    "print(\"Test data label shape:\" + str(test_data_label.shape))"
   ]
  },
  {
   "cell_type": "code",
   "execution_count": 6,
   "metadata": {},
   "outputs": [
    {
     "name": "stdout",
     "output_type": "stream",
     "text": [
      "(3136,)\n",
      "[[[116 119 118]\n",
      "  [108 113 118]\n",
      "  [ 67  60  59]\n",
      "  ...\n",
      "  [  0   0   0]\n",
      "  [  0   0   0]\n",
      "  [  0   0   0]]\n",
      "\n",
      " [[122 128 119]\n",
      "  [113 121 114]\n",
      "  [ 64  63  46]\n",
      "  ...\n",
      "  [  0   0   0]\n",
      "  [  0   0   0]\n",
      "  [  0   0   0]]\n",
      "\n",
      " [[105 105  93]\n",
      "  [110 117 106]\n",
      "  [ 95 101  90]\n",
      "  ...\n",
      "  [  0   0   0]\n",
      "  [  0   0   0]\n",
      "  [  0   0   0]]\n",
      "\n",
      " ...\n",
      "\n",
      " [[  0   0   0]\n",
      "  [  0   0   0]\n",
      "  [  0   0   0]\n",
      "  ...\n",
      "  [  0   0   0]\n",
      "  [  0   0   0]\n",
      "  [  0   0   0]]\n",
      "\n",
      " [[  0   0   0]\n",
      "  [  0   0   0]\n",
      "  [  0   0   0]\n",
      "  ...\n",
      "  [  0   0   0]\n",
      "  [  0   0   0]\n",
      "  [  0   0   0]]\n",
      "\n",
      " [[  0   0   0]\n",
      "  [  0   0   0]\n",
      "  [  0   0   0]\n",
      "  ...\n",
      "  [  0   0   0]\n",
      "  [  0   0   0]\n",
      "  [  0   0   0]]]\n",
      "(32, 32, 3)\n"
     ]
    },
    {
     "name": "stderr",
     "output_type": "stream",
     "text": [
      "/tmp/ipykernel_5934/1707119184.py:5: DeprecationWarning: Converting `np.integer` or `np.signedinteger` to a dtype is deprecated. The current result is `np.dtype(np.int_)` which is not strictly correct. Note that the result depends on the system. To ensure stable results use may want to use `np.int64` or `np.int32`.\n",
      "  ex = np.zeros((32, 32, 3),dtype=np.integer)\n"
     ]
    }
   ],
   "source": [
    "example = train_data[0]\n",
    "print(example.shape)\n",
    "reshaped_ex = example.reshape((28,28,4))[:,:,:3] #convert to rgb \n",
    "\n",
    "ex = np.zeros((32, 32, 3),dtype=np.integer)\n",
    "ex[:28, :28, :] = reshaped_ex;\n",
    "print(ex)\n",
    "print(ex.shape)"
   ]
  },
  {
   "cell_type": "code",
   "execution_count": 7,
   "metadata": {},
   "outputs": [],
   "source": [
    "from matplotlib import pyplot as plt "
   ]
  },
  {
   "cell_type": "code",
   "execution_count": 8,
   "metadata": {},
   "outputs": [
    {
     "data": {
      "text/plain": [
       "<matplotlib.image.AxesImage at 0x7f1181fd8130>"
      ]
     },
     "execution_count": 8,
     "metadata": {},
     "output_type": "execute_result"
    },
    {
     "data": {
      "image/png": "[encoded data removed]",
      "text/plain": [
       "<Figure size 640x480 with 1 Axes>"
      ]
     },
     "metadata": {},
     "output_type": "display_data"
    }
   ],
   "source": [
    "plt.imshow(ex)"
   ]
  },
  {
   "cell_type": "code",
   "execution_count": 9,
   "metadata": {},
   "outputs": [
    {
     "data": {
      "text/plain": [
       "array([0, 0, 1, 0, 0, 0], dtype=uint8)"
      ]
     },
     "execution_count": 9,
     "metadata": {},
     "output_type": "execute_result"
    }
   ],
   "source": [
    "ex_label = train_data_label[0]\n",
    "ex_label"
   ]
  },
  {
   "cell_type": "code",
   "execution_count": 10,
   "metadata": {},
   "outputs": [
    {
     "data": {
      "text/plain": [
       "<torch._C.Generator at 0x7f11f93c31d0>"
      ]
     },
     "execution_count": 10,
     "metadata": {},
     "output_type": "execute_result"
    }
   ],
   "source": [
    "import torch\n",
    "import torch.nn as nn\n",
    "from torch.utils.data import Dataset, DataLoader\n",
    "from torchvision import transforms as T\n",
    "from tqdm import tqdm\n",
    "from sklearn.metrics import accuracy_score\n",
    "\n",
    "torch.manual_seed(4)"
   ]
  },
  {
   "cell_type": "code",
   "execution_count": 11,
   "metadata": {},
   "outputs": [],
   "source": [
    "class SatImgDataset(Dataset):\n",
    "    def __init__(self, X, y):\n",
    "        self.X = X\n",
    "        self.y = y\n",
    "        self.transform = T.ToTensor()\n",
    "    def __len__(self):\n",
    "        return len(self.y)\n",
    "    \n",
    "    def __getitem__(self, index):\n",
    "        x = self.transform(self.X[index])\n",
    "        y = torch.FloatTensor(self.y[index])\n",
    "        return {'x':x, 'y':y}"
   ]
  },
  {
   "cell_type": "code",
   "execution_count": 12,
   "metadata": {},
   "outputs": [],
   "source": [
    "train_data_reshaped = train_data.reshape(train_qtdy,28,28,4)\n",
    "test_data_reshaped = test_data.reshape(test_qtdy,28,28,4) \n",
    "\n",
    "final_train_data = np.zeros((train_qtdy, 32, 32, 4),dtype=np.int32)\n",
    "final_train_data[:, :28, :28, :] = train_data_reshaped;\n",
    "\n",
    "final_test_data = np.zeros((test_qtdy, 32, 32, 4),dtype=np.int32)\n",
    "final_test_data[:, :28, :28, :] = test_data_reshaped;\n"
   ]
  },
  {
   "cell_type": "code",
   "execution_count": 13,
   "metadata": {},
   "outputs": [],
   "source": [
    "dataset_train = SatImgDataset(final_train_data, train_data_label)\n",
    "dataset_test = SatImgDataset(final_test_data, test_data_label)\n",
    "\n",
    "loader_train = DataLoader(dataset_train, 512, shuffle=True)\n",
    "loader_test = DataLoader(dataset_test, 512, shuffle=False)"
   ]
  },
  {
   "cell_type": "code",
   "execution_count": 14,
   "metadata": {},
   "outputs": [],
   "source": [
    "# device = torch.device('cpu')\n",
    "# model = nn.Sequential(\n",
    "#     nn.Conv2d(4, 32, (3,3)),\n",
    "#     nn.ReLU(),\n",
    "#     nn.MaxPool2d((2,2)),\n",
    "#     nn.Conv2d(32, 64, (3,3)),\n",
    "#     nn.ReLU(),\n",
    "#     nn.MaxPool2d((2,2)),\n",
    "#     nn.Flatten(),\n",
    "#     nn.Linear(1600,512),\n",
    "#     nn.ReLU(),\n",
    "#     nn.Linear(512, 6),\n",
    "#     nn.Softmax()\n",
    "# ).to(device)"
   ]
  },
  {
   "cell_type": "code",
   "execution_count": 15,
   "metadata": {},
   "outputs": [],
   "source": [
    "# from brevitas.nn import QuantConv2d, QuantReLU, QuantLinear\n",
    "# num_classes = 6\n",
    "# device = torch.device('cpu')\n",
    "# model = nn.Sequential(\n",
    "#     QuantConv2d(4,32,(3,3),bias=False),\n",
    "#     nn.ReLU(),\n",
    "#     nn.MaxPool2d((2,2)),\n",
    "#     QuantConv2d(32,64,(3,3),bias=False),\n",
    "#     nn.ReLU(),\n",
    "#     nn.MaxPool2d((2,2)),\n",
    "#     nn.Flatten(),\n",
    "#     QuantLinear(1600,512,bias=False),\n",
    "#     nn.ReLU(),\n",
    "#     QuantLinear(512,num_classes,bias=False),\n",
    "#     nn.Softmax()\n",
    "# ).to(device)"
   ]
  },
  {
   "cell_type": "code",
   "execution_count": 16,
   "metadata": {},
   "outputs": [],
   "source": [
    "num_classes = 6\n",
    "#rede treinada com 8 bits de peso\n",
    "from brevitas.nn import QuantConv2d, QuantLinear, QuantIdentity\n",
    "from brevitas.quant.scaled_int import Int8ActPerTensorFloat \n",
    "from brevitas.quant import Int8Bias\n",
    "\n",
    "device = torch.device('cpu')\n",
    "model = nn.Sequential(\n",
    "    QuantIdentity(bit_width=8),\n",
    "    QuantConv2d(4,32,(3,3), weight_bit_width=2 , bias=True),\n",
    "    nn.ReLU(),\n",
    "    nn.MaxPool2d((2,2)),\n",
    "    QuantConv2d(32,64,(3,3), weight_bit_width=2, bias=True),\n",
    "    nn.ReLU(),\n",
    "    nn.MaxPool2d((2,2)),\n",
    "    nn.Flatten(),\n",
    "    QuantLinear(2304,512, weight_bit_width=2 , bias=True),\n",
    "    nn.ReLU(),\n",
    "    QuantLinear(512,num_classes, weight_bit_width=2 , bias=True),\n",
    "    nn.Softmax(dim=1)\n",
    ").to(device)"
   ]
  },
  {
   "cell_type": "code",
   "execution_count": 17,
   "metadata": {},
   "outputs": [
    {
     "name": "stderr",
     "output_type": "stream",
     "text": [
      "100%|███████████████████████████████████████████| 20/20 [00:07<00:00,  2.63it/s]\n",
      "100%|███████████████████████████████████████████| 20/20 [00:05<00:00,  3.55it/s]\n",
      "100%|███████████████████████████████████████████| 20/20 [00:05<00:00,  3.68it/s]\n",
      "100%|███████████████████████████████████████████| 20/20 [00:09<00:00,  2.09it/s]\n",
      "100%|███████████████████████████████████████████| 20/20 [00:07<00:00,  2.54it/s]\n",
      "100%|███████████████████████████████████████████| 20/20 [00:07<00:00,  2.66it/s]\n",
      "100%|███████████████████████████████████████████| 20/20 [00:07<00:00,  2.86it/s]\n",
      "100%|███████████████████████████████████████████| 20/20 [00:06<00:00,  2.97it/s]\n",
      "100%|███████████████████████████████████████████| 20/20 [00:06<00:00,  3.30it/s]\n",
      "100%|███████████████████████████████████████████| 20/20 [00:06<00:00,  2.94it/s]\n",
      "100%|███████████████████████████████████████████| 20/20 [00:06<00:00,  3.05it/s]\n",
      "100%|███████████████████████████████████████████| 20/20 [00:06<00:00,  3.27it/s]\n",
      "100%|███████████████████████████████████████████| 20/20 [00:06<00:00,  3.18it/s]\n",
      "100%|███████████████████████████████████████████| 20/20 [00:06<00:00,  3.24it/s]\n",
      "100%|███████████████████████████████████████████| 20/20 [00:06<00:00,  2.89it/s]\n",
      "100%|███████████████████████████████████████████| 20/20 [00:07<00:00,  2.74it/s]\n",
      "100%|███████████████████████████████████████████| 20/20 [00:05<00:00,  3.44it/s]\n",
      "100%|███████████████████████████████████████████| 20/20 [00:05<00:00,  3.41it/s]\n",
      "100%|███████████████████████████████████████████| 20/20 [00:06<00:00,  3.33it/s]\n",
      "100%|███████████████████████████████████████████| 20/20 [00:05<00:00,  3.64it/s]\n",
      "100%|███████████████████████████████████████████| 20/20 [00:06<00:00,  3.22it/s]\n",
      "100%|███████████████████████████████████████████| 20/20 [00:05<00:00,  3.43it/s]\n",
      "100%|███████████████████████████████████████████| 20/20 [00:05<00:00,  3.49it/s]\n",
      "100%|███████████████████████████████████████████| 20/20 [00:05<00:00,  3.40it/s]\n",
      "100%|███████████████████████████████████████████| 20/20 [00:06<00:00,  3.30it/s]\n",
      "100%|███████████████████████████████████████████| 20/20 [00:05<00:00,  3.37it/s]\n",
      "100%|███████████████████████████████████████████| 20/20 [00:05<00:00,  3.41it/s]\n",
      "100%|███████████████████████████████████████████| 20/20 [00:05<00:00,  3.35it/s]\n",
      "100%|███████████████████████████████████████████| 20/20 [00:05<00:00,  3.62it/s]\n",
      "100%|███████████████████████████████████████████| 20/20 [00:07<00:00,  2.84it/s]\n"
     ]
    }
   ],
   "source": [
    "optimizer = torch.optim.Adam(model.parameters(), lr=1e-4)\n",
    "epochs = 30\n",
    "criterion = nn.BCELoss()\n",
    "model.train()\n",
    "for e in range(epochs):\n",
    "    for batch in tqdm(loader_train):\n",
    "        pred = model(batch['x'].to(device))\n",
    "        loss = criterion( pred, batch['y'].to(device))\n",
    "        optimizer.zero_grad()\n",
    "        loss.backward()\n",
    "        optimizer.step()"
   ]
  },
  {
   "cell_type": "code",
   "execution_count": 18,
   "metadata": {},
   "outputs": [],
   "source": [
    "def fast_gradient_sign_method(model, imgs, labels, attack_params):\n",
    "    # Determine prediction of the model\n",
    "    inp_imgs = imgs.clone().requires_grad_()\n",
    "    preds = model(inp_imgs.to(device))\n",
    "    pred_logprob = torch.log(preds)\n",
    "    #print(labels.dtype)\n",
    "    # Calculate loss by NLL\n",
    "    loss = nn.BCELoss()(preds, labels.to(device))\n",
    "    loss.backward()\n",
    "    # Update image to adversarial example as written above\n",
    "    noise_grad = torch.sign(inp_imgs.grad.to(imgs.device))\n",
    "    fake_imgs = imgs + attack_params['epsilon'] * noise_grad\n",
    "    fake_imgs.detach_()\n",
    "    return fake_imgs, noise_grad"
   ]
  },
  {
   "cell_type": "code",
   "execution_count": 19,
   "metadata": {},
   "outputs": [],
   "source": [
    "def eval_model(model, dataloader, fake_generator=None, attack_params=None):\n",
    "    y_pred = []\n",
    "    y_true = []\n",
    "    \n",
    "    for i, batch in enumerate(dataloader):\n",
    "        if fake_generator is not None:\n",
    "            fake_imgs, _ = fake_generator(model, batch['x'],batch['y'], attack_params)\n",
    "            with torch.no_grad():\n",
    "                pred = model(fake_imgs.to(device))\n",
    "        else:\n",
    "            with torch.no_grad():\n",
    "                pred = model(batch['x'].to(device))\n",
    "        y_pred.append(pred.argmax(dim=1).cpu().numpy())\n",
    "        y_true.append(batch['y'].argmax(dim=1).numpy())\n",
    "    y_pred = np.concatenate(y_pred)\n",
    "    y_true = np.concatenate(y_true)\n",
    "    return accuracy_score(y_true, y_pred)"
   ]
  },
  {
   "cell_type": "code",
   "execution_count": 20,
   "metadata": {},
   "outputs": [
    {
     "ename": "RuntimeError",
     "evalue": "only Tensors of floating point dtype can require gradients",
     "output_type": "error",
     "traceback": [
      "\u001b[0;31m---------------------------------------------------------------------------\u001b[0m",
      "\u001b[0;31mRuntimeError\u001b[0m                              Traceback (most recent call last)",
      "Cell \u001b[0;32mIn[20], line 2\u001b[0m\n\u001b[1;32m      1\u001b[0m eps \u001b[38;5;241m=\u001b[39m np\u001b[38;5;241m.\u001b[39mlogspace(\u001b[38;5;241m-\u001b[39m\u001b[38;5;241m2\u001b[39m, \u001b[38;5;241m0\u001b[39m, \u001b[38;5;241m10\u001b[39m)\n\u001b[0;32m----> 2\u001b[0m acc_attack \u001b[38;5;241m=\u001b[39m [eval_model(model, loader_test, fast_gradient_sign_method, {\u001b[38;5;124m'\u001b[39m\u001b[38;5;124mepsilon\u001b[39m\u001b[38;5;124m'\u001b[39m: e}) \u001b[38;5;28;01mfor\u001b[39;00m e \u001b[38;5;129;01min\u001b[39;00m eps]\n",
      "Cell \u001b[0;32mIn[20], line 2\u001b[0m, in \u001b[0;36m<listcomp>\u001b[0;34m(.0)\u001b[0m\n\u001b[1;32m      1\u001b[0m eps \u001b[38;5;241m=\u001b[39m np\u001b[38;5;241m.\u001b[39mlogspace(\u001b[38;5;241m-\u001b[39m\u001b[38;5;241m2\u001b[39m, \u001b[38;5;241m0\u001b[39m, \u001b[38;5;241m10\u001b[39m)\n\u001b[0;32m----> 2\u001b[0m acc_attack \u001b[38;5;241m=\u001b[39m [\u001b[43meval_model\u001b[49m\u001b[43m(\u001b[49m\u001b[43mmodel\u001b[49m\u001b[43m,\u001b[49m\u001b[43m \u001b[49m\u001b[43mloader_test\u001b[49m\u001b[43m,\u001b[49m\u001b[43m \u001b[49m\u001b[43mfast_gradient_sign_method\u001b[49m\u001b[43m,\u001b[49m\u001b[43m \u001b[49m\u001b[43m{\u001b[49m\u001b[38;5;124;43m'\u001b[39;49m\u001b[38;5;124;43mepsilon\u001b[39;49m\u001b[38;5;124;43m'\u001b[39;49m\u001b[43m:\u001b[49m\u001b[43m \u001b[49m\u001b[43me\u001b[49m\u001b[43m}\u001b[49m\u001b[43m)\u001b[49m \u001b[38;5;28;01mfor\u001b[39;00m e \u001b[38;5;129;01min\u001b[39;00m eps]\n",
      "Cell \u001b[0;32mIn[19], line 7\u001b[0m, in \u001b[0;36meval_model\u001b[0;34m(model, dataloader, fake_generator, attack_params)\u001b[0m\n\u001b[1;32m      5\u001b[0m \u001b[38;5;28;01mfor\u001b[39;00m i, batch \u001b[38;5;129;01min\u001b[39;00m \u001b[38;5;28menumerate\u001b[39m(dataloader):\n\u001b[1;32m      6\u001b[0m     \u001b[38;5;28;01mif\u001b[39;00m fake_generator \u001b[38;5;129;01mis\u001b[39;00m \u001b[38;5;129;01mnot\u001b[39;00m \u001b[38;5;28;01mNone\u001b[39;00m:\n\u001b[0;32m----> 7\u001b[0m         fake_imgs, _ \u001b[38;5;241m=\u001b[39m \u001b[43mfake_generator\u001b[49m\u001b[43m(\u001b[49m\u001b[43mmodel\u001b[49m\u001b[43m,\u001b[49m\u001b[43m \u001b[49m\u001b[43mbatch\u001b[49m\u001b[43m[\u001b[49m\u001b[38;5;124;43m'\u001b[39;49m\u001b[38;5;124;43mx\u001b[39;49m\u001b[38;5;124;43m'\u001b[39;49m\u001b[43m]\u001b[49m\u001b[43m,\u001b[49m\u001b[43mbatch\u001b[49m\u001b[43m[\u001b[49m\u001b[38;5;124;43m'\u001b[39;49m\u001b[38;5;124;43my\u001b[39;49m\u001b[38;5;124;43m'\u001b[39;49m\u001b[43m]\u001b[49m\u001b[43m,\u001b[49m\u001b[43m \u001b[49m\u001b[43mattack_params\u001b[49m\u001b[43m)\u001b[49m\n\u001b[1;32m      8\u001b[0m         \u001b[38;5;28;01mwith\u001b[39;00m torch\u001b[38;5;241m.\u001b[39mno_grad():\n\u001b[1;32m      9\u001b[0m             pred \u001b[38;5;241m=\u001b[39m model(fake_imgs\u001b[38;5;241m.\u001b[39mto(device))\n",
      "Cell \u001b[0;32mIn[18], line 3\u001b[0m, in \u001b[0;36mfast_gradient_sign_method\u001b[0;34m(model, imgs, labels, attack_params)\u001b[0m\n\u001b[1;32m      1\u001b[0m \u001b[38;5;28;01mdef\u001b[39;00m \u001b[38;5;21mfast_gradient_sign_method\u001b[39m(model, imgs, labels, attack_params):\n\u001b[1;32m      2\u001b[0m     \u001b[38;5;66;03m# Determine prediction of the model\u001b[39;00m\n\u001b[0;32m----> 3\u001b[0m     inp_imgs \u001b[38;5;241m=\u001b[39m \u001b[43mimgs\u001b[49m\u001b[38;5;241;43m.\u001b[39;49m\u001b[43mclone\u001b[49m\u001b[43m(\u001b[49m\u001b[43m)\u001b[49m\u001b[38;5;241;43m.\u001b[39;49m\u001b[43mrequires_grad_\u001b[49m\u001b[43m(\u001b[49m\u001b[43m)\u001b[49m\n\u001b[1;32m      4\u001b[0m     preds \u001b[38;5;241m=\u001b[39m model(inp_imgs\u001b[38;5;241m.\u001b[39mto(device))\n\u001b[1;32m      5\u001b[0m     pred_logprob \u001b[38;5;241m=\u001b[39m torch\u001b[38;5;241m.\u001b[39mlog(preds)\n",
      "\u001b[0;31mRuntimeError\u001b[0m: only Tensors of floating point dtype can require gradients"
     ]
    }
   ],
   "source": [
    "eps = np.logspace(-2, 0, 10)\n",
    "acc_attack = [eval_model(model, loader_test, fast_gradient_sign_method, {'epsilon': e}) for e in eps]"
   ]
  },
  {
   "cell_type": "code",
   "execution_count": 21,
   "metadata": {},
   "outputs": [
    {
     "ename": "NameError",
     "evalue": "name 'acc_attack' is not defined",
     "output_type": "error",
     "traceback": [
      "\u001b[0;31m---------------------------------------------------------------------------\u001b[0m",
      "\u001b[0;31mNameError\u001b[0m                                 Traceback (most recent call last)",
      "Cell \u001b[0;32mIn[21], line 2\u001b[0m\n\u001b[1;32m      1\u001b[0m plt\u001b[38;5;241m.\u001b[39mfigure()\n\u001b[0;32m----> 2\u001b[0m plt\u001b[38;5;241m.\u001b[39mplot(eps, \u001b[43macc_attack\u001b[49m)\n\u001b[1;32m      3\u001b[0m plt\u001b[38;5;241m.\u001b[39mxscale(\u001b[38;5;124m'\u001b[39m\u001b[38;5;124mlog\u001b[39m\u001b[38;5;124m'\u001b[39m)\n\u001b[1;32m      4\u001b[0m plt\u001b[38;5;241m.\u001b[39mylabel(\u001b[38;5;124m\"\u001b[39m\u001b[38;5;124maccuracy\u001b[39m\u001b[38;5;124m\"\u001b[39m)\n",
      "\u001b[0;31mNameError\u001b[0m: name 'acc_attack' is not defined"
     ]
    },
    {
     "data": {
      "text/plain": [
       "<Figure size 640x480 with 0 Axes>"
      ]
     },
     "metadata": {},
     "output_type": "display_data"
    }
   ],
   "source": [
    "plt.figure()\n",
    "plt.plot(eps, acc_attack)\n",
    "plt.xscale('log')\n",
    "plt.ylabel(\"accuracy\")\n",
    "plt.xlabel('epsilon')\n",
    "plt.show()"
   ]
  },
  {
   "cell_type": "code",
   "execution_count": 22,
   "metadata": {},
   "outputs": [],
   "source": [
    "def predict_one_image(img_data, y):\n",
    "    with torch.no_grad():\n",
    "        pred = model(T.ToTensor()(img_data).unsqueeze(0).to(device))\n",
    "    true_label = y.argmax()\n",
    "    pred_label = pred[0].argmax()\n",
    "    print(pred)\n",
    "    plt.imshow(img_data)\n",
    "    print(\"True class: {}, predicted class: {}\".format(true_label, pred_label))"
   ]
  },
  {
   "cell_type": "code",
   "execution_count": 23,
   "metadata": {},
   "outputs": [
    {
     "ename": "RuntimeError",
     "evalue": "only Tensors of floating point dtype can require gradients",
     "output_type": "error",
     "traceback": [
      "\u001b[0;31m---------------------------------------------------------------------------\u001b[0m",
      "\u001b[0;31mRuntimeError\u001b[0m                              Traceback (most recent call last)",
      "Cell \u001b[0;32mIn[23], line 9\u001b[0m\n\u001b[1;32m      6\u001b[0m img_f[:\u001b[38;5;241m28\u001b[39m, :\u001b[38;5;241m28\u001b[39m,:] \u001b[38;5;241m=\u001b[39m img_data\n\u001b[1;32m      7\u001b[0m labels \u001b[38;5;241m=\u001b[39m torch\u001b[38;5;241m.\u001b[39mFloatTensor(test_data_label[\u001b[38;5;241m221\u001b[39m])\u001b[38;5;241m.\u001b[39munsqueeze(\u001b[38;5;241m0\u001b[39m)\n\u001b[0;32m----> 9\u001b[0m f_img, noise_grad \u001b[38;5;241m=\u001b[39m \u001b[43mfast_gradient_sign_method\u001b[49m\u001b[43m(\u001b[49m\u001b[43mmodel\u001b[49m\u001b[43m,\u001b[49m\u001b[43m \u001b[49m\u001b[43mT\u001b[49m\u001b[38;5;241;43m.\u001b[39;49m\u001b[43mToTensor\u001b[49m\u001b[43m(\u001b[49m\u001b[43m)\u001b[49m\u001b[43m(\u001b[49m\u001b[43mimg_f\u001b[49m\u001b[43m)\u001b[49m\u001b[38;5;241;43m.\u001b[39;49m\u001b[43munsqueeze\u001b[49m\u001b[43m(\u001b[49m\u001b[38;5;241;43m0\u001b[39;49m\u001b[43m)\u001b[49m\u001b[43m,\u001b[49m\u001b[43m \u001b[49m\u001b[43mlabels\u001b[49m\u001b[43m,\u001b[49m\u001b[43m \u001b[49m\u001b[43mattack_params\u001b[49m\u001b[43m)\u001b[49m\n\u001b[1;32m     10\u001b[0m fake_img \u001b[38;5;241m=\u001b[39m f_img\u001b[38;5;241m.\u001b[39msqueeze()\u001b[38;5;241m.\u001b[39mnumpy()\u001b[38;5;241m.\u001b[39mtranspose(\u001b[38;5;241m1\u001b[39m,\u001b[38;5;241m2\u001b[39m,\u001b[38;5;241m0\u001b[39m)\n",
      "Cell \u001b[0;32mIn[18], line 3\u001b[0m, in \u001b[0;36mfast_gradient_sign_method\u001b[0;34m(model, imgs, labels, attack_params)\u001b[0m\n\u001b[1;32m      1\u001b[0m \u001b[38;5;28;01mdef\u001b[39;00m \u001b[38;5;21mfast_gradient_sign_method\u001b[39m(model, imgs, labels, attack_params):\n\u001b[1;32m      2\u001b[0m     \u001b[38;5;66;03m# Determine prediction of the model\u001b[39;00m\n\u001b[0;32m----> 3\u001b[0m     inp_imgs \u001b[38;5;241m=\u001b[39m \u001b[43mimgs\u001b[49m\u001b[38;5;241;43m.\u001b[39;49m\u001b[43mclone\u001b[49m\u001b[43m(\u001b[49m\u001b[43m)\u001b[49m\u001b[38;5;241;43m.\u001b[39;49m\u001b[43mrequires_grad_\u001b[49m\u001b[43m(\u001b[49m\u001b[43m)\u001b[49m\n\u001b[1;32m      4\u001b[0m     preds \u001b[38;5;241m=\u001b[39m model(inp_imgs\u001b[38;5;241m.\u001b[39mto(device))\n\u001b[1;32m      5\u001b[0m     pred_logprob \u001b[38;5;241m=\u001b[39m torch\u001b[38;5;241m.\u001b[39mlog(preds)\n",
      "\u001b[0;31mRuntimeError\u001b[0m: only Tensors of floating point dtype can require gradients"
     ]
    }
   ],
   "source": [
    "attack_params = {'epsilon':0.02}\n",
    "\n",
    "\n",
    "img_data = test_data[221].reshape((28,28,4))\n",
    "img_f = np.zeros((32, 32, 4), dtype=np.int32)\n",
    "img_f[:28, :28,:] = img_data\n",
    "labels = torch.FloatTensor(test_data_label[221]).unsqueeze(0)\n",
    "\n",
    "f_img, noise_grad = fast_gradient_sign_method(model, T.ToTensor()(img_f).unsqueeze(0), labels, attack_params)\n",
    "fake_img = f_img.squeeze().numpy().transpose(1,2,0)"
   ]
  },
  {
   "cell_type": "code",
   "execution_count": 24,
   "metadata": {},
   "outputs": [
    {
     "name": "stderr",
     "output_type": "stream",
     "text": [
      "[W NNPACK.cpp:53] Could not initialize NNPACK! Reason: Unsupported hardware.\n"
     ]
    },
    {
     "name": "stdout",
     "output_type": "stream",
     "text": [
      "tensor([[0., 0., 0., 0., 1., 0.]])\n",
      "True class: 2, predicted class: 4\n"
     ]
    },
    {
     "data": {
      "image/png": "[encoded data removed]",
      "text/plain": [
       "<Figure size 640x480 with 1 Axes>"
      ]
     },
     "metadata": {},
     "output_type": "display_data"
    }
   ],
   "source": [
    "predict_one_image(img_f, labels)"
   ]
  },
  {
   "cell_type": "code",
   "execution_count": 25,
   "metadata": {},
   "outputs": [
    {
     "name": "stdout",
     "output_type": "stream",
     "text": [
      "certos: 116!!!\n",
      "precisão: 2.32%!!!\n"
     ]
    }
   ],
   "source": [
    "with torch.no_grad():\n",
    "    correct = 0\n",
    "    for batch in loader_test:\n",
    "        pred = model(batch['x'].to(device))\n",
    "        predicted = torch.max(pred, 1)[1]\n",
    "        real_class = torch.max(batch['y'].to(device), 1)[1]\n",
    "        correct += (predicted == real_class).sum()\n",
    "\n",
    "print(f\"certos: {correct.item()}!!!\")\n",
    "print(f\"precisão: {correct.item()/len(dataset_test)*100}%!!!\")\n"
   ]
  },
  {
   "cell_type": "code",
   "execution_count": 26,
   "metadata": {},
   "outputs": [
    {
     "name": "stderr",
     "output_type": "stream",
     "text": [
      "/home/finn/Desktop/finn/deps/qonnx/src/qonnx/transformation/gemm_to_matmul.py:57: UserWarning: The GemmToMatMul transformation only offers explicit support for version 9 of the Gemm node, but the ONNX version of the supplied model is 14. Thus the transformation may fail or return incomplete results.\n",
      "  warnings.warn(\n"
     ]
    }
   ],
   "source": [
    "from brevitas.export import export_qonnx\n",
    "from qonnx.util.cleanup import cleanup as qonnx_cleanup\n",
    "from qonnx.core.modelwrapper import ModelWrapper\n",
    "from finn.transformation.qonnx.convert_qonnx_to_finn import ConvertQONNXtoFINN\n",
    "from qonnx.transformation.infer_shapes import InferShapes\n",
    "from qonnx.transformation.fold_constants import FoldConstants\n",
    "from qonnx.transformation.general import GiveReadableTensorNames, GiveUniqueNodeNames, RemoveStaticGraphInputs\n",
    "from qonnx.core.datatype import DataType\n",
    "\n",
    "cnn_path = \"./rede.onnx\"\n",
    "tidy_up_cnn_path = \"./rede_arrumada.onnx\"\n",
    "\n",
    "export_qonnx(model, torch.randn(1, 4, 32, 32), cnn_path)\n",
    "qonnx_cleanup(cnn_path, out_file=cnn_path)\n",
    "model_to_export = ModelWrapper(cnn_path)\n",
    "model_to_export = model_to_export.transform(ConvertQONNXtoFINN())\n",
    "model_to_export = model_to_export.transform(InferShapes())\n",
    "model_to_export = model_to_export.transform(FoldConstants())\n",
    "model_to_export = model_to_export.transform(GiveUniqueNodeNames())\n",
    "model_to_export = model_to_export.transform(GiveReadableTensorNames())\n",
    "model_to_export = model_to_export.transform(RemoveStaticGraphInputs())\n",
    "model_to_export.save(tidy_up_cnn_path)"
   ]
  },
  {
   "cell_type": "code",
   "execution_count": 27,
   "metadata": {},
   "outputs": [
    {
     "ename": "OSError",
     "evalue": "[Errno 98] Address already in use",
     "output_type": "error",
     "traceback": [
      "\u001b[0;31m---------------------------------------------------------------------------\u001b[0m",
      "\u001b[0;31mOSError\u001b[0m                                   Traceback (most recent call last)",
      "Cell \u001b[0;32mIn[27], line 3\u001b[0m\n\u001b[1;32m      1\u001b[0m \u001b[38;5;28;01mfrom\u001b[39;00m \u001b[38;5;21;01mfinn\u001b[39;00m\u001b[38;5;21;01m.\u001b[39;00m\u001b[38;5;21;01mutil\u001b[39;00m\u001b[38;5;21;01m.\u001b[39;00m\u001b[38;5;21;01mvisualization\u001b[39;00m \u001b[38;5;28;01mimport\u001b[39;00m showInNetron\n\u001b[0;32m----> 3\u001b[0m \u001b[43mshowInNetron\u001b[49m\u001b[43m(\u001b[49m\u001b[43mtidy_up_cnn_path\u001b[49m\u001b[43m)\u001b[49m\n",
      "File \u001b[0;32m/home/finn/Desktop/finn/src/finn/util/visualization.py:61\u001b[0m, in \u001b[0;36mshowInNetron\u001b[0;34m(model_filename, localhost_url, port)\u001b[0m\n\u001b[1;32m     59\u001b[0m     port \u001b[38;5;241m=\u001b[39m \u001b[38;5;241m8081\u001b[39m\n\u001b[1;32m     60\u001b[0m localhost_url \u001b[38;5;241m=\u001b[39m localhost_url \u001b[38;5;129;01mor\u001b[39;00m os\u001b[38;5;241m.\u001b[39mgetenv(\u001b[38;5;124m\"\u001b[39m\u001b[38;5;124mLOCALHOST_URL\u001b[39m\u001b[38;5;124m\"\u001b[39m, default\u001b[38;5;241m=\u001b[39m\u001b[38;5;124m\"\u001b[39m\u001b[38;5;124mlocalhost\u001b[39m\u001b[38;5;124m\"\u001b[39m)\n\u001b[0;32m---> 61\u001b[0m \u001b[43mnetron\u001b[49m\u001b[38;5;241;43m.\u001b[39;49m\u001b[43mstart\u001b[49m\u001b[43m(\u001b[49m\u001b[43mmodel_filename\u001b[49m\u001b[43m,\u001b[49m\u001b[43m \u001b[49m\u001b[43maddress\u001b[49m\u001b[38;5;241;43m=\u001b[39;49m\u001b[43m(\u001b[49m\u001b[38;5;124;43m\"\u001b[39;49m\u001b[38;5;124;43m0.0.0.0\u001b[39;49m\u001b[38;5;124;43m\"\u001b[39;49m\u001b[43m,\u001b[49m\u001b[43m \u001b[49m\u001b[43mport\u001b[49m\u001b[43m)\u001b[49m\u001b[43m,\u001b[49m\u001b[43m \u001b[49m\u001b[43mbrowse\u001b[49m\u001b[38;5;241;43m=\u001b[39;49m\u001b[38;5;28;43;01mFalse\u001b[39;49;00m\u001b[43m)\u001b[49m\n\u001b[1;32m     62\u001b[0m \u001b[38;5;28;01mreturn\u001b[39;00m IFrame(src\u001b[38;5;241m=\u001b[39m\u001b[38;5;124mf\u001b[39m\u001b[38;5;124m\"\u001b[39m\u001b[38;5;124mhttp://\u001b[39m\u001b[38;5;132;01m{\u001b[39;00mlocalhost_url\u001b[38;5;132;01m}\u001b[39;00m\u001b[38;5;124m:\u001b[39m\u001b[38;5;132;01m{\u001b[39;00mport\u001b[38;5;132;01m}\u001b[39;00m\u001b[38;5;124m/\u001b[39m\u001b[38;5;124m\"\u001b[39m, width\u001b[38;5;241m=\u001b[39m\u001b[38;5;124m\"\u001b[39m\u001b[38;5;124m100\u001b[39m\u001b[38;5;124m%\u001b[39m\u001b[38;5;124m\"\u001b[39m, height\u001b[38;5;241m=\u001b[39m\u001b[38;5;241m400\u001b[39m)\n",
      "File \u001b[0;32m/usr/local/lib/python3.10/dist-packages/netron/server.py:321\u001b[0m, in \u001b[0;36mstart\u001b[0;34m(file, address, browse, verbosity)\u001b[0m\n\u001b[1;32m    309\u001b[0m \u001b[38;5;28;01mdef\u001b[39;00m \u001b[38;5;21mstart\u001b[39m(file\u001b[38;5;241m=\u001b[39m\u001b[38;5;28;01mNone\u001b[39;00m, address\u001b[38;5;241m=\u001b[39m\u001b[38;5;28;01mNone\u001b[39;00m, browse\u001b[38;5;241m=\u001b[39m\u001b[38;5;28;01mTrue\u001b[39;00m, verbosity\u001b[38;5;241m=\u001b[39m\u001b[38;5;241m1\u001b[39m):\n\u001b[1;32m    310\u001b[0m \u001b[38;5;250m    \u001b[39m\u001b[38;5;124;03m'''Start serving model file at address and open in web browser.\u001b[39;00m\n\u001b[1;32m    311\u001b[0m \n\u001b[1;32m    312\u001b[0m \u001b[38;5;124;03m    Args:\u001b[39;00m\n\u001b[0;32m   (...)\u001b[0m\n\u001b[1;32m    319\u001b[0m \u001b[38;5;124;03m        A (host, port) address tuple.\u001b[39;00m\n\u001b[1;32m    320\u001b[0m \u001b[38;5;124;03m    '''\u001b[39;00m\n\u001b[0;32m--> 321\u001b[0m     \u001b[38;5;28;01mreturn\u001b[39;00m \u001b[43mserve\u001b[49m\u001b[43m(\u001b[49m\u001b[43mfile\u001b[49m\u001b[43m,\u001b[49m\u001b[43m \u001b[49m\u001b[38;5;28;43;01mNone\u001b[39;49;00m\u001b[43m,\u001b[49m\u001b[43m \u001b[49m\u001b[43mbrowse\u001b[49m\u001b[38;5;241;43m=\u001b[39;49m\u001b[43mbrowse\u001b[49m\u001b[43m,\u001b[49m\u001b[43m \u001b[49m\u001b[43maddress\u001b[49m\u001b[38;5;241;43m=\u001b[39;49m\u001b[43maddress\u001b[49m\u001b[43m,\u001b[49m\u001b[43m \u001b[49m\u001b[43mverbosity\u001b[49m\u001b[38;5;241;43m=\u001b[39;49m\u001b[43mverbosity\u001b[49m\u001b[43m)\u001b[49m\n",
      "File \u001b[0;32m/usr/local/lib/python3.10/dist-packages/netron/server.py:298\u001b[0m, in \u001b[0;36mserve\u001b[0;34m(file, data, address, browse, verbosity)\u001b[0m\n\u001b[1;32m    295\u001b[0m \u001b[38;5;28;01melse\u001b[39;00m:\n\u001b[1;32m    296\u001b[0m     address \u001b[38;5;241m=\u001b[39m _make_port(address)\n\u001b[0;32m--> 298\u001b[0m thread \u001b[38;5;241m=\u001b[39m \u001b[43m_HTTPServerThread\u001b[49m\u001b[43m(\u001b[49m\u001b[43mcontent\u001b[49m\u001b[43m,\u001b[49m\u001b[43m \u001b[49m\u001b[43maddress\u001b[49m\u001b[43m,\u001b[49m\u001b[43m \u001b[49m\u001b[43mverbosity\u001b[49m\u001b[43m)\u001b[49m\n\u001b[1;32m    299\u001b[0m thread\u001b[38;5;241m.\u001b[39mstart()\n\u001b[1;32m    300\u001b[0m \u001b[38;5;28;01mwhile\u001b[39;00m \u001b[38;5;129;01mnot\u001b[39;00m thread\u001b[38;5;241m.\u001b[39malive():\n",
      "File \u001b[0;32m/usr/local/lib/python3.10/dist-packages/netron/server.py:129\u001b[0m, in \u001b[0;36m_HTTPServerThread.__init__\u001b[0;34m(self, content, address, verbosity)\u001b[0m\n\u001b[1;32m    127\u001b[0m \u001b[38;5;28mself\u001b[39m\u001b[38;5;241m.\u001b[39maddress \u001b[38;5;241m=\u001b[39m address\n\u001b[1;32m    128\u001b[0m \u001b[38;5;28mself\u001b[39m\u001b[38;5;241m.\u001b[39murl \u001b[38;5;241m=\u001b[39m \u001b[38;5;124m'\u001b[39m\u001b[38;5;124mhttp://\u001b[39m\u001b[38;5;124m'\u001b[39m \u001b[38;5;241m+\u001b[39m address[\u001b[38;5;241m0\u001b[39m] \u001b[38;5;241m+\u001b[39m \u001b[38;5;124m'\u001b[39m\u001b[38;5;124m:\u001b[39m\u001b[38;5;124m'\u001b[39m \u001b[38;5;241m+\u001b[39m \u001b[38;5;28mstr\u001b[39m(address[\u001b[38;5;241m1\u001b[39m])\n\u001b[0;32m--> 129\u001b[0m \u001b[38;5;28mself\u001b[39m\u001b[38;5;241m.\u001b[39mserver \u001b[38;5;241m=\u001b[39m \u001b[43m_ThreadedHTTPServer\u001b[49m\u001b[43m(\u001b[49m\u001b[43maddress\u001b[49m\u001b[43m,\u001b[49m\u001b[43m \u001b[49m\u001b[43m_HTTPRequestHandler\u001b[49m\u001b[43m)\u001b[49m\n\u001b[1;32m    130\u001b[0m \u001b[38;5;28mself\u001b[39m\u001b[38;5;241m.\u001b[39mserver\u001b[38;5;241m.\u001b[39mtimeout \u001b[38;5;241m=\u001b[39m \u001b[38;5;241m0.25\u001b[39m\n\u001b[1;32m    131\u001b[0m \u001b[38;5;28mself\u001b[39m\u001b[38;5;241m.\u001b[39mserver\u001b[38;5;241m.\u001b[39mblock_on_close \u001b[38;5;241m=\u001b[39m \u001b[38;5;28;01mFalse\u001b[39;00m\n",
      "File \u001b[0;32m/usr/lib/python3.10/socketserver.py:452\u001b[0m, in \u001b[0;36mTCPServer.__init__\u001b[0;34m(self, server_address, RequestHandlerClass, bind_and_activate)\u001b[0m\n\u001b[1;32m    450\u001b[0m \u001b[38;5;28;01mif\u001b[39;00m bind_and_activate:\n\u001b[1;32m    451\u001b[0m     \u001b[38;5;28;01mtry\u001b[39;00m:\n\u001b[0;32m--> 452\u001b[0m         \u001b[38;5;28;43mself\u001b[39;49m\u001b[38;5;241;43m.\u001b[39;49m\u001b[43mserver_bind\u001b[49m\u001b[43m(\u001b[49m\u001b[43m)\u001b[49m\n\u001b[1;32m    453\u001b[0m         \u001b[38;5;28mself\u001b[39m\u001b[38;5;241m.\u001b[39mserver_activate()\n\u001b[1;32m    454\u001b[0m     \u001b[38;5;28;01mexcept\u001b[39;00m:\n",
      "File \u001b[0;32m/usr/lib/python3.10/http/server.py:137\u001b[0m, in \u001b[0;36mHTTPServer.server_bind\u001b[0;34m(self)\u001b[0m\n\u001b[1;32m    135\u001b[0m \u001b[38;5;28;01mdef\u001b[39;00m \u001b[38;5;21mserver_bind\u001b[39m(\u001b[38;5;28mself\u001b[39m):\n\u001b[1;32m    136\u001b[0m \u001b[38;5;250m    \u001b[39m\u001b[38;5;124;03m\"\"\"Override server_bind to store the server name.\"\"\"\u001b[39;00m\n\u001b[0;32m--> 137\u001b[0m     \u001b[43msocketserver\u001b[49m\u001b[38;5;241;43m.\u001b[39;49m\u001b[43mTCPServer\u001b[49m\u001b[38;5;241;43m.\u001b[39;49m\u001b[43mserver_bind\u001b[49m\u001b[43m(\u001b[49m\u001b[38;5;28;43mself\u001b[39;49m\u001b[43m)\u001b[49m\n\u001b[1;32m    138\u001b[0m     host, port \u001b[38;5;241m=\u001b[39m \u001b[38;5;28mself\u001b[39m\u001b[38;5;241m.\u001b[39mserver_address[:\u001b[38;5;241m2\u001b[39m]\n\u001b[1;32m    139\u001b[0m     \u001b[38;5;28mself\u001b[39m\u001b[38;5;241m.\u001b[39mserver_name \u001b[38;5;241m=\u001b[39m socket\u001b[38;5;241m.\u001b[39mgetfqdn(host)\n",
      "File \u001b[0;32m/usr/lib/python3.10/socketserver.py:466\u001b[0m, in \u001b[0;36mTCPServer.server_bind\u001b[0;34m(self)\u001b[0m\n\u001b[1;32m    464\u001b[0m \u001b[38;5;28;01mif\u001b[39;00m \u001b[38;5;28mself\u001b[39m\u001b[38;5;241m.\u001b[39mallow_reuse_address:\n\u001b[1;32m    465\u001b[0m     \u001b[38;5;28mself\u001b[39m\u001b[38;5;241m.\u001b[39msocket\u001b[38;5;241m.\u001b[39msetsockopt(socket\u001b[38;5;241m.\u001b[39mSOL_SOCKET, socket\u001b[38;5;241m.\u001b[39mSO_REUSEADDR, \u001b[38;5;241m1\u001b[39m)\n\u001b[0;32m--> 466\u001b[0m \u001b[38;5;28;43mself\u001b[39;49m\u001b[38;5;241;43m.\u001b[39;49m\u001b[43msocket\u001b[49m\u001b[38;5;241;43m.\u001b[39;49m\u001b[43mbind\u001b[49m\u001b[43m(\u001b[49m\u001b[38;5;28;43mself\u001b[39;49m\u001b[38;5;241;43m.\u001b[39;49m\u001b[43mserver_address\u001b[49m\u001b[43m)\u001b[49m\n\u001b[1;32m    467\u001b[0m \u001b[38;5;28mself\u001b[39m\u001b[38;5;241m.\u001b[39mserver_address \u001b[38;5;241m=\u001b[39m \u001b[38;5;28mself\u001b[39m\u001b[38;5;241m.\u001b[39msocket\u001b[38;5;241m.\u001b[39mgetsockname()\n",
      "\u001b[0;31mOSError\u001b[0m: [Errno 98] Address already in use"
     ]
    }
   ],
   "source": [
    "from finn.util.visualization import showInNetron\n",
    "\n",
    "showInNetron(tidy_up_cnn_path)"
   ]
  },
  {
   "cell_type": "code",
   "execution_count": null,
   "metadata": {},
   "outputs": [],
   "source": []
  }
 ],
 "metadata": {
  "kernelspec": {
   "display_name": "Python 3 (ipykernel)",
   "language": "python",
   "name": "python3"
  },
  "language_info": {
   "codemirror_mode": {
    "name": "ipython",
    "version": 3
   },
   "file_extension": ".py",
   "mimetype": "text/x-python",
   "name": "python",
   "nbconvert_exporter": "python",
   "pygments_lexer": "ipython3",
   "version": "3.10.12"
  }
 },
 "nbformat": 4,
 "nbformat_minor": 4
}

{
 "cells": [
  {
   "cell_type": "code",
   "execution_count": 1,
   "id": "44f8af17-92c4-48bc-a2cf-6baf79247466",
   "metadata": {},
   "outputs": [],
   "source": [
    "from cnns_classes import t1_quantizedCNN, t2_quantizedCNN"
   ]
  },
  {
   "cell_type": "code",
   "execution_count": 2,
   "id": "0da91d86-5e75-404d-a4de-f8ad9061e0a9",
   "metadata": {},
   "outputs": [
    {
     "data": {
      "text/plain": [
       "<torch._C.Generator at 0x7bb7adf4c0d0>"
      ]
     },
     "execution_count": 2,
     "metadata": {},
     "output_type": "execute_result"
    }
   ],
   "source": [
    "#https://www.kaggle.com/code/vmarkin/advatt\n",
    "# carregar as bibliotecas básicas necessárias\n",
    "import pandas as pd\n",
    "import numpy as np\n",
    "import torch\n",
    "import torch.nn as nn\n",
    "from torch.utils.data import Dataset, DataLoader\n",
    "from torchvision import transforms as T\n",
    "from utils import utils\n",
    "\n",
    "# gerar os gráficos logo abaixo dos comandos de plot\n",
    "%matplotlib inline\n",
    "torch.manual_seed(4)"
   ]
  },
  {
   "cell_type": "code",
   "execution_count": 3,
   "id": "ad51c5dd-d4e9-4152-826b-b5d9b1beb244",
   "metadata": {},
   "outputs": [],
   "source": [
    "train_qtdy = 324000\n",
    "test_qtdy = 81000\n",
    "\n",
    "train_data_path = './dataset/X_train_sat6.csv'\n",
    "train_label_path = './dataset/y_train_sat6.csv'\n",
    "test_data_path = './dataset/X_test_sat6.csv'\n",
    "test_label_path = './dataset/y_test_sat6.csv'\n",
    "\n",
    "train_dataset_output_name = \"train_dataset.pkl\"\n",
    "test_dataset_output_name = \"test_dataset.pkl\"\n",
    "\n",
    "t1_quantizations=[2,4,8]\n",
    "t2_quantizations=[2,4,8]\n",
    "\n",
    "device = torch.device('cpu')"
   ]
  },
  {
   "cell_type": "code",
   "execution_count": 4,
   "id": "54a4866b-d971-4397-aebc-a24a5f53e9aa",
   "metadata": {},
   "outputs": [],
   "source": [
    "def data_read(data_path, nrows):\n",
    "    data=pd.read_csv(data_path, header=None, nrows=nrows, dtype=np.uint8)\n",
    "    data=data.values ## converting the data into numpy array\n",
    "    return data"
   ]
  },
  {
   "cell_type": "code",
   "execution_count": 5,
   "id": "5c02a43e-c6b1-4591-9fb0-0d7a60745785",
   "metadata": {},
   "outputs": [],
   "source": [
    "class SatImgDataset(Dataset):\n",
    "    def __init__(self, X, y):\n",
    "        self.X = X\n",
    "        self.y = y\n",
    "        self.transform = T.ToTensor()\n",
    "    def __len__(self):\n",
    "        return len(self.y)\n",
    "    \n",
    "    def __getitem__(self, index):\n",
    "        x = self.transform(self.X[index])\n",
    "        y = torch.FloatTensor(self.y[index])\n",
    "        return {'x':x, 'y':y}"
   ]
  },
  {
   "cell_type": "code",
   "execution_count": 6,
   "id": "821f9d5e-ec24-4ed0-8f74-d8fdf25a3604",
   "metadata": {},
   "outputs": [
    {
     "name": "stdout",
     "output_type": "stream",
     "text": [
      "Train data shape:(324000, 3136)\n",
      "Train data label shape:(324000, 6)\n",
      "Test data shape:(81000, 3136)\n",
      "Test data label shape:(81000, 6)\n"
     ]
    }
   ],
   "source": [
    "train_data=data_read(train_data_path, nrows=train_qtdy)\n",
    "print(\"Train data shape:\" + str(train_data.shape))\n",
    "\n",
    "##Read training data labels\n",
    "train_data_label=data_read(train_label_path,nrows=train_qtdy)\n",
    "print(\"Train data label shape:\" + str(train_data_label.shape))\n",
    "\n",
    "##Read test data\n",
    "test_data=data_read(test_data_path, nrows=test_qtdy)\n",
    "print(\"Test data shape:\" + str(test_data.shape))\n",
    "\n",
    "##Read test data labels\n",
    "test_data_label=data_read(test_label_path,nrows=test_qtdy)\n",
    "print(\"Test data label shape:\" + str(test_data_label.shape))\n",
    "\n",
    "train_data_reshaped = train_data.reshape(train_qtdy,28,28,4)\n",
    "test_data_reshaped = test_data.reshape(test_qtdy,28,28,4) \n",
    "\n",
    "final_train_data = np.zeros((train_qtdy, 32, 32, 4),dtype=np.float32)\n",
    "final_train_data[:, :28, :28, :] = train_data_reshaped;\n",
    "\n",
    "final_test_data = np.zeros((test_qtdy, 32, 32, 4),dtype=np.float32)\n",
    "final_test_data[:, :28, :28, :] = test_data_reshaped;\n",
    "\n",
    "dataset_train = SatImgDataset(final_train_data, train_data_label)\n",
    "dataset_test = SatImgDataset(final_test_data, test_data_label)"
   ]
  },
  {
   "cell_type": "code",
   "execution_count": 7,
   "id": "8b77489c-6735-43a3-b476-8a9cdb28837c",
   "metadata": {},
   "outputs": [],
   "source": [
    "utils.save_object(object=dataset_train, filename=train_dataset_output_name)"
   ]
  },
  {
   "cell_type": "code",
   "execution_count": 8,
   "id": "07fc3d16-8a86-4bd3-97bd-e56610424133",
   "metadata": {},
   "outputs": [],
   "source": [
    "utils.save_object(object=dataset_test, filename=test_dataset_output_name)"
   ]
  },
  {
   "cell_type": "code",
   "execution_count": 6,
   "id": "387800d0-c241-4c0a-b502-4d416c56105b",
   "metadata": {},
   "outputs": [
    {
     "name": "stdout",
     "output_type": "stream",
     "text": [
      "<__main__.SatImgDataset object at 0x7bb700cafe50>\n",
      "<__main__.SatImgDataset object at 0x7bb7c7d9dfc0>\n"
     ]
    }
   ],
   "source": [
    "dataset1 = utils.read_object(filename=train_dataset_output_name)\n",
    "print(dataset1)\n",
    "\n",
    "dataset2 = utils.read_object(filename=test_dataset_output_name)\n",
    "print(dataset2)"
   ]
  },
  {
   "cell_type": "code",
   "execution_count": null,
   "id": "bf043d58-c5cc-4baa-ab44-0ccdfe24c98c",
   "metadata": {},
   "outputs": [],
   "source": []
  }
 ],
 "metadata": {
  "kernelspec": {
   "display_name": "Python 3 (ipykernel)",
   "language": "python",
   "name": "python3"
  },
  "language_info": {
   "codemirror_mode": {
    "name": "ipython",
    "version": 3
   },
   "file_extension": ".py",
   "mimetype": "text/x-python",
   "name": "python",
   "nbconvert_exporter": "python",
   "pygments_lexer": "ipython3",
   "version": "3.10.12"
  }
 },
 "nbformat": 4,
 "nbformat_minor": 5
}
